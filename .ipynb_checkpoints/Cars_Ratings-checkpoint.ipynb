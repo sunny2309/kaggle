{
 "cells": [
  {
   "cell_type": "code",
   "execution_count": 1,
   "metadata": {
    "collapsed": true
   },
   "outputs": [],
   "source": [
    "%matplotlib inline\n",
    "import collections\n",
    "import pandas as pd\n",
    "import numpy as np\n",
    "import matplotlib.pyplot as plt\n",
    "from sklearn.model_selection import train_test_split"
   ]
  },
  {
   "cell_type": "code",
   "execution_count": 2,
   "metadata": {
    "collapsed": true
   },
   "outputs": [],
   "source": [
    "train_df = pd.read_csv('../data/cars_ratings/train.csv')\n",
    "test_df = pd.read_csv('../data/cars_ratings/test.csv',header=None)"
   ]
  },
  {
   "cell_type": "code",
   "execution_count": 3,
   "metadata": {
    "collapsed": true
   },
   "outputs": [],
   "source": [
    "\n",
    "columns = list(train_df.columns)\n",
    "columns.remove('popularity')\n",
    "\n",
    "X = train_df[columns].get_values()\n",
    "y = train_df['popularity'].get_values()\n",
    "test_X = test_df.get_values()"
   ]
  },
  {
   "cell_type": "code",
   "execution_count": 85,
   "metadata": {
    "collapsed": true
   },
   "outputs": [],
   "source": [
    "train_X,test_X,train_y,test_y = train_test_split(X,y,train_size=0.8,random_state=123,stratify=y)"
   ]
  },
  {
   "cell_type": "code",
   "execution_count": 82,
   "metadata": {},
   "outputs": [
    {
     "name": "stdout",
     "output_type": "stream",
     "text": [
      "((1302, 6), (1302,), (326, 6), (326,))\n"
     ]
    }
   ],
   "source": [
    "print(train_X.shape,train_y.shape,test_X.shape,test_y.shape)"
   ]
  },
  {
   "cell_type": "code",
   "execution_count": null,
   "metadata": {
    "collapsed": true
   },
   "outputs": [],
   "source": [
    "print(collections.Counter(train_y))\n",
    "print(collections.Counter(test_y))"
   ]
  },
  {
   "cell_type": "code",
   "execution_count": 124,
   "metadata": {},
   "outputs": [
    {
     "data": {
      "text/plain": [
       "0.96012269938650308"
      ]
     },
     "execution_count": 124,
     "metadata": {},
     "output_type": "execute_result"
    }
   ],
   "source": [
    "from sklearn.neighbors import KNeighborsClassifier\n",
    "from sklearn.preprocessing import StandardScaler,RobustScaler,MinMaxScaler\n",
    "from sklearn.metrics import classification_report\n",
    "\n",
    "sc = RobustScaler()\n",
    "sc.fit(train_X)\n",
    "train_X_scaled = sc.transform(train_X)\n",
    "test_X_scaled = sc.transform(test_X)\n",
    "\n",
    "knc = KNeighborsClassifier(n_neighbors=5)\n",
    "knc.fit(train_X_scaled,train_y)\n",
    "knc.score(test_X_scaled,test_y)\n",
    "#predicted_y = knc.predict(test_X)\n",
    "#print(classification_report(test_y,predicted_y,target_names=['Class 1','Class 2','Class 3','Class 4','Class 5']))\n"
   ]
  },
  {
   "cell_type": "markdown",
   "metadata": {},
   "source": [
    "from sklearn.ensemble import RandomForestClassifier\n",
    "from sklearn.preprocessing import StandardScaler,RobustScaler,MinMaxScaler\n",
    "from sklearn.metrics import classification_report\n",
    "\n",
    "sc = RobustScaler()\n",
    "sc.fit(train_X)\n",
    "train_X_scaled = sc.transform(train_X)\n",
    "test_X_scaled = sc.transform(test_X)\n",
    "\n",
    "knc = RandomForestClassifier(n_estimators=40)\n",
    "knc.fit(train_X_scaled,train_y)\n",
    "knc.score(test_X_scaled,test_y)\n",
    "predicted_y = knc.predict(test_df.get_values())\n",
    "np.savetxt('predict1.csv',predicted_y,fmt='%d',delimiter=',',)\n",
    "#print(classification_report(test_y,predicted_y,target_names=['Class 1','Class 2','Class 3','Class 4','Class 5']))\n"
   ]
  },
  {
   "cell_type": "markdown",
   "metadata": {},
   "source": [
    "from sklearn.tree import DecisionTreeClassifier\n",
    "from sklearn.preprocessing import StandardScaler,RobustScaler,MinMaxScaler\n",
    "from sklearn.metrics import classification_report\n",
    "\n",
    "sc = RobustScaler()\n",
    "sc.fit(train_X)\n",
    "train_X_scaled = sc.transform(train_X)\n",
    "test_X_scaled = sc.transform(test_X)\n",
    "\n",
    "dtc = DecisionTreeClassifier()\n",
    "dtc.fit(train_X_scaled,train_y)\n",
    "dtc.score(test_X_scaled,test_y)\n",
    "#predicted_y = knc.predict(test_X)\n",
    "#print(classification_report(test_y,predicted_y,target_names=['Class 1','Class 2','Class 3','Class 4','Class 5']))\n"
   ]
  },
  {
   "cell_type": "code",
   "execution_count": 29,
   "metadata": {},
   "outputs": [],
   "source": [
    "import keras\n",
    "from keras.models import Model,Sequential\n",
    "from keras.layers import Dense,BatchNormalization,Input,Dropout,Convolution1D,MaxPooling1D,Flatten\n",
    "from keras.utils.np_utils import to_categorical"
   ]
  },
  {
   "cell_type": "code",
   "execution_count": 86,
   "metadata": {
    "collapsed": true
   },
   "outputs": [],
   "source": [
    "train_X = train_X.astype(np.float32)\n",
    "train_y = to_categorical(train_y)[:,1:].astype(np.float32)\n",
    "test_X = test_X.astype(np.float32)\n",
    "test_y = to_categorical(test_y)[:,1:].astype(np.float32)\n",
    "\n",
    "from sklearn.neighbors import KNeighborsClassifier\n",
    "from sklearn.preprocessing import StandardScaler,RobustScaler,MinMaxScaler\n",
    "from sklearn.metrics import classification_report\n",
    "\n",
    "sc = RobustScaler()\n",
    "sc.fit(train_X)\n",
    "train_X_scaled = sc.transform(train_X)\n",
    "test_X_scaled = sc.transform(test_X)"
   ]
  },
  {
   "cell_type": "code",
   "execution_count": 138,
   "metadata": {},
   "outputs": [
    {
     "name": "stdout",
     "output_type": "stream",
     "text": [
      "_________________________________________________________________\n",
      "Layer (type)                 Output Shape              Param #   \n",
      "=================================================================\n",
      "input_26 (InputLayer)        (None, 6)                 0         \n",
      "_________________________________________________________________\n",
      "batch_normalization_26 (Batc (None, 6)                 24        \n",
      "_________________________________________________________________\n",
      "dense_80 (Dense)             (None, 512)               3584      \n",
      "_________________________________________________________________\n",
      "dense_81 (Dense)             (None, 512)               262656    \n",
      "_________________________________________________________________\n",
      "dense_82 (Dense)             (None, 512)               262656    \n",
      "_________________________________________________________________\n",
      "dense_83 (Dense)             (None, 4)                 2052      \n",
      "=================================================================\n",
      "Total params: 530,972\n",
      "Trainable params: 530,960\n",
      "Non-trainable params: 12\n",
      "_________________________________________________________________\n"
     ]
    }
   ],
   "source": [
    "inp = Input(shape=(6,))\n",
    "bn1 = BatchNormalization()(inp)\n",
    "#dense1 = Dense(64,activation='relu')(bn1)\n",
    "#bn2 = BatchNormalization()(dense1)\n",
    "dense2 = Dense(512,activation='relu')(bn1)\n",
    "#bn2 = BatchNormalization()(dense2)\n",
    "dense3 = Dense(512,activation='relu')(dense2)\n",
    "#bn4 = BatchNormalization()(dense3)\n",
    "dense4 = Dense(512,activation='relu')(dense3)\n",
    "#dense5 = Dense(1028,activation='relu')(dense4)\n",
    "#dense6 = Dense(2048,activation='relu')(dense5)\n",
    "out = Dense(4,activation='softmax')(dense4)\n",
    "\n",
    "model = Model(inp,out)\n",
    "model.compile(optimizer='rmsprop',loss='categorical_crossentropy',metrics=['accuracy'])\n",
    "model.summary()"
   ]
  },
  {
   "cell_type": "code",
   "execution_count": 151,
   "metadata": {},
   "outputs": [
    {
     "name": "stdout",
     "output_type": "stream",
     "text": [
      "Train on 1302 samples, validate on 326 samples\n",
      "Epoch 1/10\n",
      "1302/1302 [==============================] - 1s - loss: 0.0661 - acc: 0.9777 - val_loss: 0.0702 - val_acc: 0.9755\n",
      "Epoch 2/10\n",
      "1302/1302 [==============================] - 1s - loss: 0.0526 - acc: 0.9785 - val_loss: 0.0962 - val_acc: 0.9755\n",
      "Epoch 3/10\n",
      "1302/1302 [==============================] - 1s - loss: 0.0529 - acc: 0.9831 - val_loss: 0.0422 - val_acc: 0.9816\n",
      "Epoch 4/10\n",
      "1302/1302 [==============================] - 1s - loss: 0.0479 - acc: 0.9808 - val_loss: 0.0212 - val_acc: 0.9939\n",
      "Epoch 5/10\n",
      "1302/1302 [==============================] - 1s - loss: 0.0405 - acc: 0.9839 - val_loss: 0.0543 - val_acc: 0.9816\n",
      "Epoch 6/10\n",
      "1302/1302 [==============================] - 1s - loss: 0.0874 - acc: 0.9685 - val_loss: 0.0435 - val_acc: 0.9877\n",
      "Epoch 7/10\n",
      "1302/1302 [==============================] - 1s - loss: 0.0360 - acc: 0.9854 - val_loss: 0.0548 - val_acc: 0.9816\n",
      "Epoch 8/10\n",
      "1302/1302 [==============================] - 0s - loss: 0.0315 - acc: 0.9916 - val_loss: 0.0217 - val_acc: 0.9908\n",
      "Epoch 9/10\n",
      "1302/1302 [==============================] - 0s - loss: 0.0360 - acc: 0.9846 - val_loss: 0.0363 - val_acc: 0.9908\n",
      "Epoch 10/10\n",
      "1302/1302 [==============================] - 1s - loss: 0.0416 - acc: 0.9869 - val_loss: 0.2524 - val_acc: 0.9387\n"
     ]
    },
    {
     "data": {
      "text/plain": [
       "<keras.callbacks.History at 0x7faa3c9ee2d0>"
      ]
     },
     "execution_count": 151,
     "metadata": {},
     "output_type": "execute_result"
    }
   ],
   "source": [
    "model.optimizer.lr = 0.00001\n",
    "model.fit(train_X_scaled,train_y,\n",
    "          validation_data=(test_X_scaled,test_y),\n",
    "          epochs=10,\n",
    "         batch_size=64)"
   ]
  },
  {
   "cell_type": "code",
   "execution_count": 152,
   "metadata": {},
   "outputs": [],
   "source": [
    "preds=model.predict(test_df.get_values().astype(np.float32))"
   ]
  },
  {
   "cell_type": "code",
   "execution_count": 153,
   "metadata": {},
   "outputs": [],
   "source": [
    "results = [np.argmax(val)+1 for val in preds]"
   ]
  },
  {
   "cell_type": "code",
   "execution_count": 154,
   "metadata": {},
   "outputs": [
    {
     "data": {
      "text/plain": [
       "[1,\n",
       " 1,\n",
       " 1,\n",
       " 1,\n",
       " 1,\n",
       " 1,\n",
       " 1,\n",
       " 1,\n",
       " 1,\n",
       " 1,\n",
       " 1,\n",
       " 1,\n",
       " 1,\n",
       " 1,\n",
       " 1,\n",
       " 1,\n",
       " 1,\n",
       " 1,\n",
       " 1,\n",
       " 1,\n",
       " 1,\n",
       " 1,\n",
       " 1,\n",
       " 1,\n",
       " 1,\n",
       " 1,\n",
       " 1,\n",
       " 1,\n",
       " 1,\n",
       " 1,\n",
       " 1,\n",
       " 1,\n",
       " 1,\n",
       " 1,\n",
       " 1,\n",
       " 1,\n",
       " 1,\n",
       " 1,\n",
       " 1,\n",
       " 1,\n",
       " 1,\n",
       " 1,\n",
       " 1,\n",
       " 1,\n",
       " 1,\n",
       " 1,\n",
       " 1,\n",
       " 1,\n",
       " 1,\n",
       " 1,\n",
       " 1,\n",
       " 1,\n",
       " 1,\n",
       " 1,\n",
       " 1,\n",
       " 1,\n",
       " 1,\n",
       " 1,\n",
       " 1,\n",
       " 1,\n",
       " 1,\n",
       " 1,\n",
       " 1,\n",
       " 1,\n",
       " 1,\n",
       " 1,\n",
       " 1,\n",
       " 1,\n",
       " 1,\n",
       " 1,\n",
       " 1,\n",
       " 1,\n",
       " 1,\n",
       " 1,\n",
       " 1,\n",
       " 1,\n",
       " 1,\n",
       " 1,\n",
       " 1,\n",
       " 1,\n",
       " 1,\n",
       " 1,\n",
       " 1,\n",
       " 1,\n",
       " 1,\n",
       " 1,\n",
       " 1,\n",
       " 1,\n",
       " 1,\n",
       " 1,\n",
       " 1,\n",
       " 1,\n",
       " 1,\n",
       " 1,\n",
       " 1,\n",
       " 1,\n",
       " 1,\n",
       " 1,\n",
       " 1,\n",
       " 1]"
      ]
     },
     "execution_count": 154,
     "metadata": {},
     "output_type": "execute_result"
    }
   ],
   "source": [
    "results"
   ]
  },
  {
   "cell_type": "code",
   "execution_count": 66,
   "metadata": {
    "collapsed": true
   },
   "outputs": [],
   "source": [
    "np.savetxt('predict5.csv',results,fmt='%d',delimiter=',',)"
   ]
  },
  {
   "cell_type": "code",
   "execution_count": null,
   "metadata": {
    "collapsed": true
   },
   "outputs": [],
   "source": []
  }
 ],
 "metadata": {
  "kernelspec": {
   "display_name": "Python 2",
   "language": "python",
   "name": "python2"
  },
  "language_info": {
   "codemirror_mode": {
    "name": "ipython",
    "version": 2
   },
   "file_extension": ".py",
   "mimetype": "text/x-python",
   "name": "python",
   "nbconvert_exporter": "python",
   "pygments_lexer": "ipython2",
   "version": "2.7.13"
  }
 },
 "nbformat": 4,
 "nbformat_minor": 2
}
