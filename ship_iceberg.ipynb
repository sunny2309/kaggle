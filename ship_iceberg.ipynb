{
 "cells": [
  {
   "cell_type": "code",
   "execution_count": 1,
   "metadata": {
    "collapsed": false
   },
   "outputs": [
    {
     "name": "stderr",
     "output_type": "stream",
     "text": [
      "Using Theano backend.\n",
      "WARNING (theano.sandbox.cuda): The cuda backend is deprecated and will be removed in the next release (v0.10).  Please switch to the gpuarray backend. You can get more information about how to switch at this URL:\n",
      " https://github.com/Theano/Theano/wiki/Converting-to-the-new-gpu-back-end%28gpuarray%29\n",
      "\n",
      "Using gpu device 0: Tesla K80 (CNMeM is disabled, cuDNN 5103)\n"
     ]
    }
   ],
   "source": [
    "%matplotlib inline\n",
    "import json\n",
    "import pandas as pd\n",
    "import numpy as np\n",
    "import matplotlib.pyplot as mplot\n",
    "from sklearn.preprocessing import OneHotEncoder\n",
    "#from sklearn.model_selection import train_test_split\n",
    "\n",
    "\n",
    "from keras.utils import *\n",
    "from keras.models import Sequential\n",
    "from keras.layers.core import Dense\n",
    "from keras.layers import Flatten\n",
    "from keras.layers.convolutional import Convolution2D,MaxPooling2D,ZeroPadding2D\n",
    "from keras.preprocessing import image\n",
    "from keras.optimizers import RMSprop,SGD\n",
    "from keras.layers.normalization import BatchNormalization"
   ]
  },
  {
   "cell_type": "code",
   "execution_count": 47,
   "metadata": {
    "collapsed": false
   },
   "outputs": [
    {
     "name": "stdout",
     "output_type": "stream",
     "text": [
      "<type 'list'>\n",
      "1604\n",
      "[u'is_iceberg', u'inc_angle', u'band_2', u'id', u'band_1']\n"
     ]
    }
   ],
   "source": [
    "train_data = json.load(open('/home/ubuntu/data/iceberg/train.json'))\n",
    "print type(train_data)\n",
    "print len(train_data)\n",
    "print train_data[0].keys()"
   ]
  },
  {
   "cell_type": "code",
   "execution_count": 48,
   "metadata": {
    "collapsed": false
   },
   "outputs": [
    {
     "name": "stdout",
     "output_type": "stream",
     "text": [
      "<type 'list'>\n",
      "8424\n",
      "[u'inc_angle', u'band_2', u'id', u'band_1']\n"
     ]
    }
   ],
   "source": [
    "test_data = json.load(open('/home/ubuntu/data/iceberg/test.json'))\n",
    "print type(test_data)\n",
    "print len(test_data)\n",
    "print test_data[0].keys()"
   ]
  },
  {
   "cell_type": "markdown",
   "metadata": {},
   "source": [
    "# Approach 1: Using convolution NN"
   ]
  },
  {
   "cell_type": "code",
   "execution_count": 50,
   "metadata": {
    "collapsed": false
   },
   "outputs": [],
   "source": [
    "#test_data = json.load(open('/home/ubuntu/data/iceberg/test.json'))\n",
    "#print type(test_data)\n",
    "#print len(test_data)\n",
    "#print test_data[0].keys()\n",
    "#train_data = np.random.random(train_data)"
   ]
  },
  {
   "cell_type": "code",
   "execution_count": 51,
   "metadata": {
    "collapsed": false
   },
   "outputs": [],
   "source": [
    "train_X = np.array([np.array([np.array(d['band_1']).reshape(75,75),np.array(d['band_2']).reshape(75,75),\n",
    "                             np.array(d['band_1']).reshape(75,75)/np.array(d['band_2']).reshape(75,75)]) \\\n",
    "                    for d in train_data])\n",
    "ids = np.array([d['id'] for d in train_data])\n",
    "train_y = np.array([d['is_iceberg'] for d in train_data])\n",
    "del train_data"
   ]
  },
  {
   "cell_type": "code",
   "execution_count": 52,
   "metadata": {
    "collapsed": false
   },
   "outputs": [
    {
     "name": "stdout",
     "output_type": "stream",
     "text": [
      "(1203, 3, 75, 75) (401, 3, 75, 75) (1203,) (401,)\n"
     ]
    }
   ],
   "source": [
    "#train_X,valid_X,train_y,valid_y = train_test_split(train_X,train_y,\n",
    "#                                                   train_size=0.75,\n",
    "#                                                   random_state=123,stratify=train_y)\n",
    "total_samples = train_X.shape[0]\n",
    "#train_X = np.random.permutation(train_X)\n",
    "#train_y = np.random.permutation(train_y)\n",
    "train_X1 = train_X[:int(total_samples*0.75)]\n",
    "train_y1 = train_y[:int(total_samples*0.75)]\n",
    "valid_X = train_X[int(total_samples*0.75):]\n",
    "valid_y = train_y[int(total_samples*0.75):]\n",
    "\n",
    "\n",
    "print train_X1.shape,valid_X.shape,train_y1.shape,valid_y.shape"
   ]
  },
  {
   "cell_type": "code",
   "execution_count": 53,
   "metadata": {
    "collapsed": false
   },
   "outputs": [
    {
     "name": "stdout",
     "output_type": "stream",
     "text": [
      "(1203, 3, 75, 75) (1203,) (1604,)\n",
      "(1203, 2) (401, 2)\n"
     ]
    }
   ],
   "source": [
    "print train_X1.shape,train_y1.shape,ids.shape\n",
    "train_y1 = np_utils.to_categorical(train_y1)\n",
    "valid_y = np_utils.to_categorical(valid_y)\n",
    "del train_y,train_X\n",
    "print train_y1.shape,valid_y.shape\n",
    "#print train_y_one_hot_encoded[:2]\n",
    "#train_X[:1],train_y[:5],ids[:5]"
   ]
  },
  {
   "cell_type": "code",
   "execution_count": 142,
   "metadata": {
    "collapsed": false
   },
   "outputs": [],
   "source": [
    "def create_visualiization():\n",
    "    fig = mplot.figure(figsize=(12,6))\n",
    "    for i,y in zip(range(12),train_y_one_hot_encoded[:12]):\n",
    "        fig.add_subplot(3,4,i+1)\n",
    "        mplot.text(0,0,str(y))\n",
    "\n",
    "        mplot.imshow(train_X[i,0],interpolation='none')\n",
    "\n",
    "        mplot.xticks([])\n",
    "        mplot.yticks([])\n",
    "        mplot.yticks([])\n",
    "#mplot.subplot()"
   ]
  },
  {
   "cell_type": "code",
   "execution_count": 54,
   "metadata": {
    "collapsed": false
   },
   "outputs": [
    {
     "data": {
      "text/plain": [
       "<module 'vgg16bn' from 'vgg16bn.pyc'>"
      ]
     },
     "execution_count": 54,
     "metadata": {},
     "output_type": "execute_result"
    }
   ],
   "source": [
    "import vgg16bn\n",
    "reload(vgg16bn)"
   ]
  },
  {
   "cell_type": "code",
   "execution_count": 55,
   "metadata": {
    "collapsed": false
   },
   "outputs": [],
   "source": [
    "vgg = vgg16bn.Vgg16BN(size=(75,75),include_top=True)"
   ]
  },
  {
   "cell_type": "code",
   "execution_count": 56,
   "metadata": {
    "collapsed": false
   },
   "outputs": [
    {
     "name": "stdout",
     "output_type": "stream",
     "text": [
      "____________________________________________________________________________________________________\n",
      "Layer (type)                     Output Shape          Param #     Connected to                     \n",
      "====================================================================================================\n",
      "lambda_8 (Lambda)                (None, 3, 75, 75)     0           lambda_input_8[0][0]             \n",
      "____________________________________________________________________________________________________\n",
      "zeropadding2d_74 (ZeroPadding2D) (None, 3, 77, 77)     0           lambda_8[0][0]                   \n",
      "____________________________________________________________________________________________________\n",
      "convolution2d_74 (Convolution2D) (None, 64, 75, 75)    1792        zeropadding2d_74[0][0]           \n",
      "____________________________________________________________________________________________________\n",
      "zeropadding2d_75 (ZeroPadding2D) (None, 64, 77, 77)    0           convolution2d_74[0][0]           \n",
      "____________________________________________________________________________________________________\n",
      "convolution2d_75 (Convolution2D) (None, 64, 75, 75)    36928       zeropadding2d_75[0][0]           \n",
      "____________________________________________________________________________________________________\n",
      "maxpooling2d_30 (MaxPooling2D)   (None, 64, 37, 37)    0           convolution2d_75[0][0]           \n",
      "____________________________________________________________________________________________________\n",
      "zeropadding2d_76 (ZeroPadding2D) (None, 64, 39, 39)    0           maxpooling2d_30[0][0]            \n",
      "____________________________________________________________________________________________________\n",
      "convolution2d_76 (Convolution2D) (None, 128, 37, 37)   73856       zeropadding2d_76[0][0]           \n",
      "____________________________________________________________________________________________________\n",
      "zeropadding2d_77 (ZeroPadding2D) (None, 128, 39, 39)   0           convolution2d_76[0][0]           \n",
      "____________________________________________________________________________________________________\n",
      "convolution2d_77 (Convolution2D) (None, 128, 37, 37)   147584      zeropadding2d_77[0][0]           \n",
      "____________________________________________________________________________________________________\n",
      "maxpooling2d_31 (MaxPooling2D)   (None, 128, 18, 18)   0           convolution2d_77[0][0]           \n",
      "____________________________________________________________________________________________________\n",
      "zeropadding2d_78 (ZeroPadding2D) (None, 128, 20, 20)   0           maxpooling2d_31[0][0]            \n",
      "____________________________________________________________________________________________________\n",
      "convolution2d_78 (Convolution2D) (None, 256, 18, 18)   295168      zeropadding2d_78[0][0]           \n",
      "____________________________________________________________________________________________________\n",
      "zeropadding2d_79 (ZeroPadding2D) (None, 256, 20, 20)   0           convolution2d_78[0][0]           \n",
      "____________________________________________________________________________________________________\n",
      "convolution2d_79 (Convolution2D) (None, 256, 18, 18)   590080      zeropadding2d_79[0][0]           \n",
      "____________________________________________________________________________________________________\n",
      "zeropadding2d_80 (ZeroPadding2D) (None, 256, 20, 20)   0           convolution2d_79[0][0]           \n",
      "____________________________________________________________________________________________________\n",
      "convolution2d_80 (Convolution2D) (None, 256, 18, 18)   590080      zeropadding2d_80[0][0]           \n",
      "____________________________________________________________________________________________________\n",
      "maxpooling2d_32 (MaxPooling2D)   (None, 256, 9, 9)     0           convolution2d_80[0][0]           \n",
      "____________________________________________________________________________________________________\n",
      "flatten_2 (Flatten)              (None, 20736)         0           maxpooling2d_32[0][0]            \n",
      "____________________________________________________________________________________________________\n",
      "dense_7 (Dense)                  (None, 4096)          84938752    flatten_2[0][0]                  \n",
      "____________________________________________________________________________________________________\n",
      "batchnormalization_3 (BatchNormal(None, 4096)          8192        dense_7[0][0]                    \n",
      "____________________________________________________________________________________________________\n",
      "dropout_3 (Dropout)              (None, 4096)          0           batchnormalization_3[0][0]       \n",
      "____________________________________________________________________________________________________\n",
      "dense_8 (Dense)                  (None, 4096)          16781312    dropout_3[0][0]                  \n",
      "____________________________________________________________________________________________________\n",
      "batchnormalization_4 (BatchNormal(None, 4096)          8192        dense_8[0][0]                    \n",
      "____________________________________________________________________________________________________\n",
      "dropout_4 (Dropout)              (None, 4096)          0           batchnormalization_4[0][0]       \n",
      "____________________________________________________________________________________________________\n",
      "dense_9 (Dense)                  (None, 1000)          4097000     dropout_4[0][0]                  \n",
      "====================================================================================================\n",
      "Total params: 107568936\n",
      "____________________________________________________________________________________________________\n"
     ]
    }
   ],
   "source": [
    "vgg.model.summary()"
   ]
  },
  {
   "cell_type": "code",
   "execution_count": 57,
   "metadata": {
    "collapsed": true
   },
   "outputs": [],
   "source": [
    "vgg.ft(2)"
   ]
  },
  {
   "cell_type": "code",
   "execution_count": 60,
   "metadata": {
    "collapsed": false
   },
   "outputs": [
    {
     "name": "stdout",
     "output_type": "stream",
     "text": [
      "True\n",
      "True\n",
      "True\n",
      "True\n",
      "True\n",
      "True\n",
      "True\n",
      "True\n",
      "True\n",
      "True\n",
      "True\n",
      "True\n",
      "True\n",
      "True\n",
      "True\n",
      "True\n",
      "True\n",
      "True\n",
      "True\n",
      "True\n",
      "True\n",
      "True\n",
      "True\n",
      "True\n",
      "True\n",
      "True\n",
      "True\n",
      "True\n",
      "True\n",
      "True\n",
      "True\n",
      "True\n",
      "True\n",
      "True\n",
      "True\n",
      "True\n",
      "True\n",
      "True\n",
      "True\n",
      "True\n",
      "True\n",
      "True\n",
      "True\n",
      "True\n",
      "True\n",
      "True\n",
      "True\n",
      "True\n",
      "True\n",
      "True\n",
      "True\n",
      "True\n"
     ]
    }
   ],
   "source": [
    "layers = vgg.model.layers\n",
    "#for layer in layers: print layer.trainable\n",
    "for layer in layers: layer.trainable = True\n",
    "#for layer in layers: print layer.trainable"
   ]
  },
  {
   "cell_type": "code",
   "execution_count": 62,
   "metadata": {
    "collapsed": false
   },
   "outputs": [
    {
     "name": "stdout",
     "output_type": "stream",
     "text": [
      "Train on 1203 samples, validate on 401 samples\n",
      "Epoch 1/3\n",
      "1203/1203 [==============================] - 3s - loss: 0.6992 - acc: 0.7149 - val_loss: 1.0685 - val_acc: 0.3591\n",
      "Epoch 2/3\n",
      "1203/1203 [==============================] - 3s - loss: 0.6826 - acc: 0.7182 - val_loss: 1.0571 - val_acc: 0.3591\n",
      "Epoch 3/3\n",
      "1203/1203 [==============================] - 3s - loss: 0.7160 - acc: 0.7066 - val_loss: 1.1318 - val_acc: 0.3591\n"
     ]
    },
    {
     "data": {
      "text/plain": [
       "<keras.callbacks.History at 0x7f97168b4910>"
      ]
     },
     "execution_count": 62,
     "metadata": {},
     "output_type": "execute_result"
    }
   ],
   "source": [
    "vgg.model.fit(train_X1,train_y1,validation_data=(valid_X,valid_y),nb_epoch=3)"
   ]
  },
  {
   "cell_type": "code",
   "execution_count": 33,
   "metadata": {
    "collapsed": false
   },
   "outputs": [],
   "source": [
    "\n",
    "flat_idx = [idx for idx,layer in enumerate(layers) if type(layer) is Flatten][0]\n",
    "for layer in layers[flat_idx+1:]:layer.trainable=True"
   ]
  },
  {
   "cell_type": "code",
   "execution_count": 34,
   "metadata": {
    "collapsed": false
   },
   "outputs": [
    {
     "name": "stdout",
     "output_type": "stream",
     "text": [
      "Train on 1203 samples, validate on 401 samples\n",
      "Epoch 1/3\n",
      "1203/1203 [==============================] - 3s - loss: 0.7841 - acc: 0.6833 - val_loss: 1.0373 - val_acc: 0.3591\n",
      "Epoch 2/3\n",
      "1203/1203 [==============================] - 3s - loss: 0.7206 - acc: 0.7066 - val_loss: 1.2963 - val_acc: 0.3566\n",
      "Epoch 3/3\n",
      "1203/1203 [==============================] - 3s - loss: 0.6693 - acc: 0.7232 - val_loss: 1.0674 - val_acc: 0.3591\n"
     ]
    },
    {
     "data": {
      "text/plain": [
       "<keras.callbacks.History at 0x7f971ca5ea50>"
      ]
     },
     "execution_count": 34,
     "metadata": {},
     "output_type": "execute_result"
    }
   ],
   "source": [
    "vgg.model.fit(train_X1,train_y1,validation_data=(valid_X,valid_y),nb_epoch=3)"
   ]
  },
  {
   "cell_type": "code",
   "execution_count": 46,
   "metadata": {
    "collapsed": false
   },
   "outputs": [
    {
     "name": "stdout",
     "output_type": "stream",
     "text": [
      "1e-05\n",
      "Train on 1203 samples, validate on 401 samples\n",
      "Epoch 1/5\n",
      "1203/1203 [==============================] - 3s - loss: 0.6488 - acc: 0.7332 - val_loss: 1.0235 - val_acc: 0.3915\n",
      "Epoch 2/5\n",
      "1203/1203 [==============================] - 3s - loss: 0.6247 - acc: 0.7556 - val_loss: 1.5032 - val_acc: 0.3641\n",
      "Epoch 3/5\n",
      "1203/1203 [==============================] - 3s - loss: 0.6624 - acc: 0.7215 - val_loss: 1.0421 - val_acc: 0.3815\n",
      "Epoch 4/5\n",
      "1203/1203 [==============================] - 3s - loss: 0.6191 - acc: 0.7481 - val_loss: 0.8492 - val_acc: 0.4090\n",
      "Epoch 5/5\n",
      "1203/1203 [==============================] - 3s - loss: 0.5958 - acc: 0.7581 - val_loss: 0.9131 - val_acc: 0.3940\n"
     ]
    },
    {
     "data": {
      "text/plain": [
       "<keras.callbacks.History at 0x7f97368f4e90>"
      ]
     },
     "execution_count": 46,
     "metadata": {},
     "output_type": "execute_result"
    }
   ],
   "source": [
    "#vgg.model.optimizer.lr=0.00001\n",
    "print vgg.model.optimizer.lr\n",
    "#for layer in layers: layer.trainable=True\n",
    "vgg.model.fit(train_X1,train_y1,validation_data=(valid_X,valid_y),nb_epoch=5)"
   ]
  },
  {
   "cell_type": "markdown",
   "metadata": {},
   "source": [
    "# Approach 2: KNeighborsClassifier"
   ]
  },
  {
   "cell_type": "code",
   "execution_count": 145,
   "metadata": {
    "collapsed": false
   },
   "outputs": [],
   "source": [
    "import sklearn"
   ]
  },
  {
   "cell_type": "code",
   "execution_count": 147,
   "metadata": {
    "collapsed": true
   },
   "outputs": [],
   "source": [
    "from sklearn.neighbors import KNeighborsClassifier\n",
    "from sklearn.preprocessing import StandardScaler"
   ]
  },
  {
   "cell_type": "code",
   "execution_count": 151,
   "metadata": {
    "collapsed": false
   },
   "outputs": [
    {
     "name": "stdout",
     "output_type": "stream",
     "text": [
      " (3208, 5625) (3208,)\n"
     ]
    }
   ],
   "source": [
    "train_X = []\n",
    "for row in train_data:\n",
    "    train_X.append(np.array(row['band_1']))\n",
    "    train_X.append(np.array(row['band_2']))\n",
    "train_X = np.array(train_X)\n",
    "\n",
    "train_y = []\n",
    "for row in train_data:\n",
    "    train_y.append(np.array(row['is_iceberg']))\n",
    "    train_y.append(np.array(row['is_iceberg']))\n",
    "train_y = np.array(train_y)\n",
    "\n",
    "print train_X.shape,train_y.shape\n",
    "\n",
    "test_X = []\n",
    "for row in test_data:\n",
    "    test_X.append(np.array(row['band_1']))\n",
    "    test_X.append(np.array(row['band_2']))\n",
    "test_X = np.array(test_X)\n",
    "\n",
    "print test_X.shape\n",
    "\n",
    "labels = []\n",
    "for row in test_data:\n",
    "    labels.append(np.array(row['id']))\n",
    "labels = np.array(labels)\n",
    "\n",
    "print labels.shape"
   ]
  },
  {
   "cell_type": "code",
   "execution_count": 154,
   "metadata": {
    "collapsed": false
   },
   "outputs": [
    {
     "name": "stdout",
     "output_type": "stream",
     "text": [
      " (2406, 5625) (2406,) (802, 5625) (802,)\n"
     ]
    }
   ],
   "source": [
    "samples=int(train_X.shape[0]*.75)\n",
    "train_X1 = train_X[:samples]\n",
    "train_y1 = train_y[:samples]\n",
    "\n",
    "valid_X1 = train_X[samples:]\n",
    "valid_y1 = train_y[samples:]\n",
    "\n",
    "print train_X1.shape,train_y1.shape,valid_X1.shape,valid_y1.shape"
   ]
  },
  {
   "cell_type": "code",
   "execution_count": 155,
   "metadata": {
    "collapsed": true
   },
   "outputs": [],
   "source": [
    "knc = KNeighborsClassifier()\n",
    "sc = StandardScaler()\n",
    "\n",
    "sc.fit(train_X1)\n",
    "train_X1 = sc.transform(train_X1)\n",
    "test_X = sc.transform(test_X)"
   ]
  },
  {
   "cell_type": "code",
   "execution_count": 156,
   "metadata": {
    "collapsed": false
   },
   "outputs": [
    {
     "data": {
      "text/plain": [
       "KNeighborsClassifier(algorithm='auto', leaf_size=30, metric='minkowski',\n",
       "           metric_params=None, n_jobs=1, n_neighbors=5, p=2,\n",
       "           weights='uniform')"
      ]
     },
     "execution_count": 156,
     "metadata": {},
     "output_type": "execute_result"
    }
   ],
   "source": [
    "knc.fit(train_X1,train_y1)"
   ]
  },
  {
   "cell_type": "code",
   "execution_count": 158,
   "metadata": {
    "collapsed": false
   },
   "outputs": [
    {
     "data": {
      "text/plain": [
       "0.62842892768079806"
      ]
     },
     "execution_count": 158,
     "metadata": {},
     "output_type": "execute_result"
    }
   ],
   "source": [
    "knc.score(valid_X1,valid_y1)"
   ]
  },
  {
   "cell_type": "code",
   "execution_count": null,
   "metadata": {
    "collapsed": false
   },
   "outputs": [],
   "source": [
    "probs = knc.predict_proba(test_X)"
   ]
  },
  {
   "cell_type": "code",
   "execution_count": null,
   "metadata": {
    "collapsed": true
   },
   "outputs": [],
   "source": [
    "prob_final = (probs[::2]+probs[1::2])/len(probs.shape[0]/2)"
   ]
  }
 ],
 "metadata": {
  "anaconda-cloud": {},
  "kernelspec": {
   "display_name": "Python [conda root]",
   "language": "python",
   "name": "conda-root-py"
  },
  "language_info": {
   "codemirror_mode": {
    "name": "ipython",
    "version": 2
   },
   "file_extension": ".py",
   "mimetype": "text/x-python",
   "name": "python",
   "nbconvert_exporter": "python",
   "pygments_lexer": "ipython2",
   "version": "2.7.12"
  }
 },
 "nbformat": 4,
 "nbformat_minor": 1
}
