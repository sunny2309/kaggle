{
 "cells": [
  {
   "cell_type": "code",
   "execution_count": 1,
   "metadata": {},
   "outputs": [
    {
     "name": "stderr",
     "output_type": "stream",
     "text": [
      "Using Theano backend.\n"
     ]
    }
   ],
   "source": [
    "%matplotlib inline\n",
    "import json\n",
    "import pandas as pd\n",
    "import numpy as np\n",
    "\n",
    "from keras import backend as K\n",
    "import keras\n",
    "from sklearn.metrics import log_loss\n",
    "from keras.layers.convolutional import Convolution2D,ZeroPadding2D,MaxPooling2D,Conv2D,Conv1D\n",
    "from keras.layers.core import Dense,Lambda,Dropout,Flatten\n",
    "from keras.layers import Input\n",
    "from keras.layers.normalization import BatchNormalization\n",
    "from keras.optimizers import SGD,RMSprop,Adam\n",
    "from keras.models import Sequential,Model\n",
    "from keras.preprocessing import image\n",
    "from keras.utils.np_utils import to_categorical\n",
    "from keras.regularizers import l2,l1\n",
    "K.set_image_dim_ordering('th')"
   ]
  },
  {
   "cell_type": "code",
   "execution_count": 2,
   "metadata": {
    "collapsed": true
   },
   "outputs": [],
   "source": [
    "train_data = json.load(open('train.json'))"
   ]
  },
  {
   "cell_type": "code",
   "execution_count": 3,
   "metadata": {},
   "outputs": [
    {
     "data": {
      "text/plain": [
       "[u'is_iceberg', u'inc_angle', u'band_2', u'id', u'band_1']"
      ]
     },
     "execution_count": 3,
     "metadata": {},
     "output_type": "execute_result"
    }
   ],
   "source": [
    "train_data[0].keys()"
   ]
  },
  {
   "cell_type": "code",
   "execution_count": 4,
   "metadata": {},
   "outputs": [
    {
     "name": "stdout",
     "output_type": "stream",
     "text": [
      "[851 753]\n",
      "(1604, 5625) (1604, 5625) (1604,)\n",
      "float64 float64 int64\n",
      "[0 0 1 0 0]\n"
     ]
    }
   ],
   "source": [
    "images_band_1 = []\n",
    "images_band_2 = []\n",
    "for d in train_data:\n",
    "    images_band_1.append(np.array(d['band_1']))\n",
    "    images_band_2.append(np.array(d['band_2']))\n",
    "images_band_1 = np.array(images_band_1)\n",
    "images_band_2 = np.array(images_band_2)\n",
    "labels = np.array([row['is_iceberg'] for row in train_data])\n",
    "\n",
    "print np.bincount(labels)\n",
    "#labels = to_categorical(labels)\n",
    "del train_data\n",
    "print images_band_1.shape,images_band_2.shape,labels.shape\n",
    "print images_band_1.dtype,images_band_2.dtype,labels.dtype\n",
    "print labels[:5]"
   ]
  },
  {
   "cell_type": "code",
   "execution_count": 5,
   "metadata": {},
   "outputs": [
    {
     "name": "stdout",
     "output_type": "stream",
     "text": [
      "((1283, 5625), (1283, 5625))\n",
      "((321, 5625), (321, 5625))\n",
      "((1283,), (1283,))\n",
      "((321,), (321,))\n"
     ]
    }
   ],
   "source": [
    "from sklearn.model_selection import train_test_split\n",
    "from sklearn.preprocessing import StandardScaler,RobustScaler,MinMaxScaler\n",
    "\n",
    "X_train_b1,X_test_b1,y_train_b1,y_test_b1 = train_test_split(images_band_1,labels,\n",
    "                                                       train_size=0.80,\n",
    "                                                       stratify=labels)\n",
    "X_train_b2,X_test_b2,y_train_b2,y_test_b2 = train_test_split(images_band_1,labels,\n",
    "                                                       train_size=0.80,\n",
    "                                                       stratify=labels)\n",
    "sc_b1 = MinMaxScaler()\n",
    "sc_b1.fit(X_train_b1)\n",
    "X_train_b1 = sc_b1.transform(X_train_b1)\n",
    "X_test_b1 = sc_b1.transform(X_test_b1)\n",
    "\n",
    "sc_b2 = MinMaxScaler()\n",
    "sc_b2.fit(X_train_b1)\n",
    "X_train_b2 = sc_b2.transform(X_train_b2)\n",
    "X_test_b2 = sc_b2.transform(X_test_b2)\n",
    "\n",
    "print (X_train_b1.shape,X_train_b2.shape)\n",
    "print(X_test_b1.shape,X_test_b2.shape)\n",
    "print (y_train_b1.shape,y_train_b2.shape)\n",
    "print (y_test_b1.shape,y_test_b2.shape)\n",
    "del images_band_1,images_band_2"
   ]
  },
  {
   "cell_type": "code",
   "execution_count": 6,
   "metadata": {},
   "outputs": [
    {
     "name": "stdout",
     "output_type": "stream",
     "text": [
      "(1283, 1, 75, 75) (321, 1, 75, 75) (1283, 1, 75, 75) (321, 1, 75, 75)\n"
     ]
    }
   ],
   "source": [
    "X_train_b1 = np.array([np.array(img.reshape(75,75)) for img in X_train_b1])\n",
    "X_test_b1 = np.array([np.array(img.reshape(75,75)) for img in X_test_b1])\n",
    "\n",
    "X_train_b2 = np.array([np.array(img.reshape(75,75)) for img in X_train_b2])\n",
    "X_test_b2 = np.array([np.array(img.reshape(75,75)) for img in X_test_b2])\n",
    "\n",
    "X_train_b1 = X_train_b1[:,np.newaxis,:,:]\n",
    "X_test_b1 = X_test_b1[:,np.newaxis,:,:]\n",
    "X_train_b2 = X_train_b2[:,np.newaxis,:,:]\n",
    "X_test_b2 = X_test_b2[:,np.newaxis,:,:]\n",
    "\n",
    "print X_train_b1.shape,X_test_b1.shape,X_train_b2.shape,X_test_b2.shape"
   ]
  },
  {
   "cell_type": "code",
   "execution_count": 7,
   "metadata": {
    "collapsed": true
   },
   "outputs": [],
   "source": [
    "gen = image.ImageDataGenerator(rotation_range=10, width_shift_range=0.1, \n",
    "       height_shift_range=0.1, shear_range=0.15, zoom_range=0.1, \n",
    "       channel_shift_range=10., horizontal_flip=True)\n",
    "batches_b1 = gen.flow(X_train_b1,y_train_b1,batch_size=1500)\n",
    "val_batches_b1 = gen.flow(X_test_b1,y_test_b1,batch_size=500)\n",
    "batches_b2 = gen.flow(X_train_b2,y_train_b2,batch_size=1500)\n",
    "val_batches_b2 = gen.flow(X_test_b2,y_test_b2,batch_size=500)\n",
    "\n",
    "del X_train_b1,y_train_b1,X_test_b1,y_test_b1,X_train_b2,y_train_b2,X_test_b2,y_test_b2"
   ]
  },
  {
   "cell_type": "markdown",
   "metadata": {},
   "source": [
    "model_b1 = Sequential()\n",
    "model_b1.add(Lambda(lambda x:x,input_shape=(1,75,75),output_shape=(1,75,75)))\n",
    "model_b1.add(BatchNormalization())\n",
    "#model_b1.add(ZeroPadding2D(((1,2),(1,2))))\n",
    "#model_b1.add(Conv2D(16,(3,3),activation='relu'))\n",
    "#model_b1.add(MaxPooling2D((2,2)))\n",
    "#model_b1.add(ZeroPadding2D(((1,0),(1,0))))\n",
    "model_b1.add(Conv2D(32,(3,3),activation='relu'))\n",
    "model_b1.add(MaxPooling2D((2,2)))\n",
    "#model_b1.add(ZeroPadding2D(((1,0),(1,0))))\n",
    "#model_b1.add(Conv2D(64,(3,3),activation='relu'))\n",
    "#model_b1.add(MaxPooling2D((2,2)))\n",
    "model_b1.add(Flatten())\n",
    "model_b1.add(Dense(1024,activation='relu',activity_regularizer=l2(0.001)))\n",
    "model_b1.add(BatchNormalization())\n",
    "model_b1.add(Dropout(0.60))\n",
    "model_b1.add(Dense(1024,activation='relu',activity_regularizer=l2(0.001)))\n",
    "model_b1.add(BatchNormalization())\n",
    "model_b1.add(Dropout(0.60))\n",
    "model_b1.add(Dense(1,activation='sigmoid'))\n",
    "model_b1.compile(optimizer=RMSprop(lr=0.01),loss='binary_crossentropy',metrics=['accuracy'])\n",
    "\n",
    "model_b1.summary()"
   ]
  },
  {
   "cell_type": "markdown",
   "metadata": {},
   "source": [
    "#for layer in model.layers: print layer.trainable\n",
    "model_b1.fit(X_train_b1,y_train_b1,validation_data=(X_test_b1,y_test_b1),epochs=5,batch_size=16)\n",
    "model_b1.optimizer.lr = 0.001\n",
    "model_b1.fit(X_train_b1,y_train_b1,validation_data=(X_test_b1,y_test_b1),epochs=5,batch_size=16)\n",
    "#model_b1.optimizer.lr = 0.0001\n",
    "#model_b1.fit(X_train_b1,y_train_b1,validation_data=(X_test_b1,y_test_b1),epochs=3,batch_size=16)\n",
    "#model_b1.optimizer.lr = 0.00001\n",
    "#model_b1.fit(X_train_b1,y_train_b1,validation_data=(X_test_b1,y_test_b1),epochs=2,batch_size=16)\n",
    "#model_b1.optimizer.lr = 0.000001\n",
    "#model_b1.fit(X_train_b1,y_train_b1,validation_data=(X_test_b1,y_test_b1),epochs=3,batch_size=16)"
   ]
  },
  {
   "cell_type": "code",
   "execution_count": 8,
   "metadata": {},
   "outputs": [],
   "source": [
    "model_b2 = Sequential()\n",
    "model_b2.add(Lambda(lambda x:x,input_shape=(1,75,75),output_shape=(1,75,75)))\n",
    "model_b2.add(BatchNormalization())\n",
    "model_b2.add(ZeroPadding2D(((1,0),(1,0))))\n",
    "model_b2.add(Conv2D(64,(3,3),activation='relu'))\n",
    "model_b2.add(MaxPooling2D((2,2)))\n",
    "model_b2.add(ZeroPadding2D(((1,0),(1,0))))\n",
    "model_b2.add(Conv2D(128,(3,3),activation='relu'))\n",
    "model_b2.add(MaxPooling2D((2,2)))\n",
    "model_b2.add(ZeroPadding2D(((1,0),(1,0))))\n",
    "model_b2.add(Conv2D(256,(3,3),activation='relu'))\n",
    "model_b2.add(MaxPooling2D((2,2)))\n",
    "model_b2.add(ZeroPadding2D(((1,0),(1,0))))\n",
    "model_b2.add(Conv2D(512,(3,3),activation='relu'))\n",
    "model_b2.add(MaxPooling2D((2,2)))\n",
    "model_b2.add(Flatten())\n",
    "model_b2.add(Dense(2048,activation='relu'))\n",
    "model_b2.add(BatchNormalization())\n",
    "model_b2.add(Dropout(0.75))\n",
    "model_b2.add(Dense(1024,activation='relu'))\n",
    "model_b2.add(BatchNormalization())\n",
    "model_b2.add(Dropout(0.75))\n",
    "#model_b2.add(Dense(512,activation='relu'))\n",
    "#model_b2.add(BatchNormalization())\n",
    "#model_b2.add(Dropout(0.75))\n",
    "model_b2.add(Dense(1,activation='sigmoid'))\n",
    "model_b2.compile(optimizer=RMSprop(lr=0.01),loss='binary_crossentropy',metrics=['accuracy'])\n",
    "\n",
    "#model_b2.summary()"
   ]
  },
  {
   "cell_type": "code",
   "execution_count": 9,
   "metadata": {},
   "outputs": [
    {
     "name": "stdout",
     "output_type": "stream",
     "text": [
      "Train on 1283 samples, validate on 321 samples\n",
      "Epoch 1/3\n",
      "1283/1283 [==============================] - 246s - loss: 1.3640 - acc: 0.5066 - val_loss: 6.9060 - val_acc: 0.5047\n",
      "Epoch 2/3\n",
      "1283/1283 [==============================] - 220s - loss: 1.0371 - acc: 0.5347 - val_loss: 4.4243 - val_acc: 0.5202\n",
      "Epoch 3/3\n",
      "1283/1283 [==============================] - 224s - loss: 0.9384 - acc: 0.5012 - val_loss: 2.5043 - val_acc: 0.5826\n",
      "Train on 1283 samples, validate on 321 samples\n",
      "Epoch 1/3\n",
      "1283/1283 [==============================] - 220s - loss: 0.8697 - acc: 0.5261 - val_loss: 0.9987 - val_acc: 0.4829\n",
      "Epoch 2/3\n",
      "1283/1283 [==============================] - 219s - loss: 0.7757 - acc: 0.5682 - val_loss: 1.9309 - val_acc: 0.4174\n",
      "Epoch 3/3\n",
      "1283/1283 [==============================] - 230s - loss: 0.7343 - acc: 0.5892 - val_loss: 0.8297 - val_acc: 0.4704\n",
      "Train on 1283 samples, validate on 321 samples\n",
      "Epoch 1/3\n",
      "1283/1283 [==============================] - 228s - loss: 0.7356 - acc: 0.5947 - val_loss: 0.8699 - val_acc: 0.5047\n",
      "Epoch 2/3\n",
      "1283/1283 [==============================] - 237s - loss: 0.6706 - acc: 0.6235 - val_loss: 1.0949 - val_acc: 0.5296\n",
      "Epoch 3/3\n",
      "1283/1283 [==============================] - 349s - loss: 0.6709 - acc: 0.5939 - val_loss: 0.7800 - val_acc: 0.4891\n",
      "Train on 1283 samples, validate on 321 samples\n",
      "Epoch 1/3\n",
      "1283/1283 [==============================] - 494s - loss: 0.6349 - acc: 0.6493 - val_loss: 0.7226 - val_acc: 0.5981\n",
      "Epoch 2/3\n",
      "1283/1283 [==============================] - 525s - loss: 0.6032 - acc: 0.6765 - val_loss: 1.7998 - val_acc: 0.5389\n",
      "Epoch 3/3\n",
      "1283/1283 [==============================] - 547s - loss: 0.5994 - acc: 0.6804 - val_loss: 0.7416 - val_acc: 0.6636\n",
      "Train on 1283 samples, validate on 321 samples\n",
      "Epoch 1/3\n",
      "1283/1283 [==============================] - 569s - loss: 0.5681 - acc: 0.7046 - val_loss: 0.6093 - val_acc: 0.6542\n",
      "Epoch 2/3\n",
      "1283/1283 [==============================] - 588s - loss: 0.5386 - acc: 0.7397 - val_loss: 0.6993 - val_acc: 0.6417\n",
      "Epoch 3/3\n",
      "1283/1283 [==============================] - 596s - loss: 0.5188 - acc: 0.7521 - val_loss: 0.7266 - val_acc: 0.6511\n",
      "Train on 1283 samples, validate on 321 samples\n",
      "Epoch 1/3\n",
      "1283/1283 [==============================] - 602s - loss: 0.6325 - acc: 0.6454 - val_loss: 0.6436 - val_acc: 0.6199\n",
      "Epoch 2/3\n",
      "1283/1283 [==============================] - 605s - loss: 0.5997 - acc: 0.6929 - val_loss: 0.6963 - val_acc: 0.6293\n",
      "Epoch 3/3\n",
      "1283/1283 [==============================] - 610s - loss: 0.5440 - acc: 0.7217 - val_loss: 0.9607 - val_acc: 0.6075\n",
      "Train on 1283 samples, validate on 321 samples\n",
      "Epoch 1/3\n",
      "1283/1283 [==============================] - 637s - loss: 0.5190 - acc: 0.7529 - val_loss: 0.6817 - val_acc: 0.6667\n",
      "Epoch 2/3\n",
      "1283/1283 [==============================] - 654s - loss: 0.4902 - acc: 0.7771 - val_loss: 0.5488 - val_acc: 0.7165\n",
      "Epoch 3/3\n",
      "1283/1283 [==============================] - 722s - loss: 0.4547 - acc: 0.7833 - val_loss: 0.5786 - val_acc: 0.7072\n",
      "Train on 1283 samples, validate on 321 samples\n",
      "Epoch 1/3\n",
      "1283/1283 [==============================] - 660s - loss: 0.4373 - acc: 0.8145 - val_loss: 0.8814 - val_acc: 0.5701\n",
      "Epoch 2/3\n",
      "1283/1283 [==============================] - 768s - loss: 0.4251 - acc: 0.8106 - val_loss: 0.9270 - val_acc: 0.5794\n",
      "Epoch 3/3\n",
      "1283/1283 [==============================] - 687s - loss: 0.3775 - acc: 0.8379 - val_loss: 0.6703 - val_acc: 0.6822\n",
      "Train on 1283 samples, validate on 321 samples\n",
      "Epoch 1/3\n",
      "1283/1283 [==============================] - 669s - loss: 0.3206 - acc: 0.8745 - val_loss: 0.7736 - val_acc: 0.6947\n",
      "Epoch 2/3\n",
      "1283/1283 [==============================] - 718s - loss: 0.3169 - acc: 0.8706 - val_loss: 0.8468 - val_acc: 0.6511\n",
      "Epoch 3/3\n",
      "1283/1283 [==============================] - 710s - loss: 0.2731 - acc: 0.8854 - val_loss: 0.7252 - val_acc: 0.7103\n",
      "Train on 1283 samples, validate on 321 samples\n",
      "Epoch 1/3\n",
      "  64/1283 [>.............................] - ETA: 622s - loss: 0.3872 - acc: 0.8438"
     ]
    },
    {
     "ename": "KeyboardInterrupt",
     "evalue": "",
     "output_type": "error",
     "traceback": [
      "\u001b[0;31m------------------------------------------------------------------\u001b[0m",
      "\u001b[0;31mKeyboardInterrupt\u001b[0m                Traceback (most recent call last)",
      "\u001b[0;32m<ipython-input-9-93f6899eced0>\u001b[0m in \u001b[0;36m<module>\u001b[0;34m()\u001b[0m\n\u001b[1;32m     16\u001b[0m \u001b[0;34m\u001b[0m\u001b[0m\n\u001b[1;32m     17\u001b[0m     \u001b[0mmodel_b2\u001b[0m\u001b[0;34m.\u001b[0m\u001b[0moptimizer\u001b[0m\u001b[0;34m.\u001b[0m\u001b[0mlr\u001b[0m \u001b[0;34m=\u001b[0m \u001b[0;36m0.000001\u001b[0m\u001b[0;34m\u001b[0m\u001b[0m\n\u001b[0;32m---> 18\u001b[0;31m     \u001b[0mmodel_b2\u001b[0m\u001b[0;34m.\u001b[0m\u001b[0mfit\u001b[0m\u001b[0;34m(\u001b[0m\u001b[0mbatch\u001b[0m\u001b[0;34m[\u001b[0m\u001b[0;36m0\u001b[0m\u001b[0;34m]\u001b[0m\u001b[0;34m,\u001b[0m\u001b[0mbatch\u001b[0m\u001b[0;34m[\u001b[0m\u001b[0;36m1\u001b[0m\u001b[0;34m]\u001b[0m\u001b[0;34m,\u001b[0m\u001b[0mvalidation_data\u001b[0m\u001b[0;34m=\u001b[0m\u001b[0;34m(\u001b[0m\u001b[0mval_batch\u001b[0m\u001b[0;34m[\u001b[0m\u001b[0;36m0\u001b[0m\u001b[0;34m]\u001b[0m\u001b[0;34m,\u001b[0m\u001b[0mval_batch\u001b[0m\u001b[0;34m[\u001b[0m\u001b[0;36m1\u001b[0m\u001b[0;34m]\u001b[0m\u001b[0;34m)\u001b[0m\u001b[0;34m,\u001b[0m\u001b[0mepochs\u001b[0m\u001b[0;34m=\u001b[0m\u001b[0;36m3\u001b[0m\u001b[0;34m,\u001b[0m\u001b[0mbatch_size\u001b[0m\u001b[0;34m=\u001b[0m\u001b[0;36m16\u001b[0m\u001b[0;34m)\u001b[0m\u001b[0;34m\u001b[0m\u001b[0m\n\u001b[0m",
      "\u001b[0;32m/home/sunny/anaconda2/lib/python2.7/site-packages/keras/models.pyc\u001b[0m in \u001b[0;36mfit\u001b[0;34m(self, x, y, batch_size, epochs, verbose, callbacks, validation_split, validation_data, shuffle, class_weight, sample_weight, initial_epoch, **kwargs)\u001b[0m\n\u001b[1;32m    865\u001b[0m                               \u001b[0mclass_weight\u001b[0m\u001b[0;34m=\u001b[0m\u001b[0mclass_weight\u001b[0m\u001b[0;34m,\u001b[0m\u001b[0;34m\u001b[0m\u001b[0m\n\u001b[1;32m    866\u001b[0m                               \u001b[0msample_weight\u001b[0m\u001b[0;34m=\u001b[0m\u001b[0msample_weight\u001b[0m\u001b[0;34m,\u001b[0m\u001b[0;34m\u001b[0m\u001b[0m\n\u001b[0;32m--> 867\u001b[0;31m                               initial_epoch=initial_epoch)\n\u001b[0m\u001b[1;32m    868\u001b[0m \u001b[0;34m\u001b[0m\u001b[0m\n\u001b[1;32m    869\u001b[0m     def evaluate(self, x, y, batch_size=32, verbose=1,\n",
      "\u001b[0;32m/home/sunny/anaconda2/lib/python2.7/site-packages/keras/engine/training.pyc\u001b[0m in \u001b[0;36mfit\u001b[0;34m(self, x, y, batch_size, epochs, verbose, callbacks, validation_split, validation_data, shuffle, class_weight, sample_weight, initial_epoch, steps_per_epoch, validation_steps, **kwargs)\u001b[0m\n\u001b[1;32m   1596\u001b[0m                               \u001b[0minitial_epoch\u001b[0m\u001b[0;34m=\u001b[0m\u001b[0minitial_epoch\u001b[0m\u001b[0;34m,\u001b[0m\u001b[0;34m\u001b[0m\u001b[0m\n\u001b[1;32m   1597\u001b[0m                               \u001b[0msteps_per_epoch\u001b[0m\u001b[0;34m=\u001b[0m\u001b[0msteps_per_epoch\u001b[0m\u001b[0;34m,\u001b[0m\u001b[0;34m\u001b[0m\u001b[0m\n\u001b[0;32m-> 1598\u001b[0;31m                               validation_steps=validation_steps)\n\u001b[0m\u001b[1;32m   1599\u001b[0m \u001b[0;34m\u001b[0m\u001b[0m\n\u001b[1;32m   1600\u001b[0m     def evaluate(self, x, y,\n",
      "\u001b[0;32m/home/sunny/anaconda2/lib/python2.7/site-packages/keras/engine/training.pyc\u001b[0m in \u001b[0;36m_fit_loop\u001b[0;34m(self, f, ins, out_labels, batch_size, epochs, verbose, callbacks, val_f, val_ins, shuffle, callback_metrics, initial_epoch, steps_per_epoch, validation_steps)\u001b[0m\n\u001b[1;32m   1181\u001b[0m                     \u001b[0mbatch_logs\u001b[0m\u001b[0;34m[\u001b[0m\u001b[0;34m'size'\u001b[0m\u001b[0;34m]\u001b[0m \u001b[0;34m=\u001b[0m \u001b[0mlen\u001b[0m\u001b[0;34m(\u001b[0m\u001b[0mbatch_ids\u001b[0m\u001b[0;34m)\u001b[0m\u001b[0;34m\u001b[0m\u001b[0m\n\u001b[1;32m   1182\u001b[0m                     \u001b[0mcallbacks\u001b[0m\u001b[0;34m.\u001b[0m\u001b[0mon_batch_begin\u001b[0m\u001b[0;34m(\u001b[0m\u001b[0mbatch_index\u001b[0m\u001b[0;34m,\u001b[0m \u001b[0mbatch_logs\u001b[0m\u001b[0;34m)\u001b[0m\u001b[0;34m\u001b[0m\u001b[0m\n\u001b[0;32m-> 1183\u001b[0;31m                     \u001b[0mouts\u001b[0m \u001b[0;34m=\u001b[0m \u001b[0mf\u001b[0m\u001b[0;34m(\u001b[0m\u001b[0mins_batch\u001b[0m\u001b[0;34m)\u001b[0m\u001b[0;34m\u001b[0m\u001b[0m\n\u001b[0m\u001b[1;32m   1184\u001b[0m                     \u001b[0;32mif\u001b[0m \u001b[0;32mnot\u001b[0m \u001b[0misinstance\u001b[0m\u001b[0;34m(\u001b[0m\u001b[0mouts\u001b[0m\u001b[0;34m,\u001b[0m \u001b[0mlist\u001b[0m\u001b[0;34m)\u001b[0m\u001b[0;34m:\u001b[0m\u001b[0;34m\u001b[0m\u001b[0m\n\u001b[1;32m   1185\u001b[0m                         \u001b[0mouts\u001b[0m \u001b[0;34m=\u001b[0m \u001b[0;34m[\u001b[0m\u001b[0mouts\u001b[0m\u001b[0;34m]\u001b[0m\u001b[0;34m\u001b[0m\u001b[0m\n",
      "\u001b[0;32m/home/sunny/anaconda2/lib/python2.7/site-packages/keras/backend/theano_backend.pyc\u001b[0m in \u001b[0;36m__call__\u001b[0;34m(self, inputs)\u001b[0m\n\u001b[1;32m   1220\u001b[0m     \u001b[0;32mdef\u001b[0m \u001b[0m__call__\u001b[0m\u001b[0;34m(\u001b[0m\u001b[0mself\u001b[0m\u001b[0;34m,\u001b[0m \u001b[0minputs\u001b[0m\u001b[0;34m)\u001b[0m\u001b[0;34m:\u001b[0m\u001b[0;34m\u001b[0m\u001b[0m\n\u001b[1;32m   1221\u001b[0m         \u001b[0;32massert\u001b[0m \u001b[0misinstance\u001b[0m\u001b[0;34m(\u001b[0m\u001b[0minputs\u001b[0m\u001b[0;34m,\u001b[0m \u001b[0;34m(\u001b[0m\u001b[0mlist\u001b[0m\u001b[0;34m,\u001b[0m \u001b[0mtuple\u001b[0m\u001b[0;34m)\u001b[0m\u001b[0;34m)\u001b[0m\u001b[0;34m\u001b[0m\u001b[0m\n\u001b[0;32m-> 1222\u001b[0;31m         \u001b[0;32mreturn\u001b[0m \u001b[0mself\u001b[0m\u001b[0;34m.\u001b[0m\u001b[0mfunction\u001b[0m\u001b[0;34m(\u001b[0m\u001b[0;34m*\u001b[0m\u001b[0minputs\u001b[0m\u001b[0;34m)\u001b[0m\u001b[0;34m\u001b[0m\u001b[0m\n\u001b[0m\u001b[1;32m   1223\u001b[0m \u001b[0;34m\u001b[0m\u001b[0m\n\u001b[1;32m   1224\u001b[0m \u001b[0;34m\u001b[0m\u001b[0m\n",
      "\u001b[0;32m/home/sunny/anaconda2/lib/python2.7/site-packages/theano/compile/function_module.pyc\u001b[0m in \u001b[0;36m__call__\u001b[0;34m(self, *args, **kwargs)\u001b[0m\n\u001b[1;32m    882\u001b[0m         \u001b[0;32mtry\u001b[0m\u001b[0;34m:\u001b[0m\u001b[0;34m\u001b[0m\u001b[0m\n\u001b[1;32m    883\u001b[0m             \u001b[0moutputs\u001b[0m \u001b[0;34m=\u001b[0m\u001b[0;31m\\\u001b[0m\u001b[0;34m\u001b[0m\u001b[0m\n\u001b[0;32m--> 884\u001b[0;31m                 \u001b[0mself\u001b[0m\u001b[0;34m.\u001b[0m\u001b[0mfn\u001b[0m\u001b[0;34m(\u001b[0m\u001b[0;34m)\u001b[0m \u001b[0;32mif\u001b[0m \u001b[0moutput_subset\u001b[0m \u001b[0;32mis\u001b[0m \u001b[0mNone\u001b[0m \u001b[0;32melse\u001b[0m\u001b[0;31m\\\u001b[0m\u001b[0;34m\u001b[0m\u001b[0m\n\u001b[0m\u001b[1;32m    885\u001b[0m                 \u001b[0mself\u001b[0m\u001b[0;34m.\u001b[0m\u001b[0mfn\u001b[0m\u001b[0;34m(\u001b[0m\u001b[0moutput_subset\u001b[0m\u001b[0;34m=\u001b[0m\u001b[0moutput_subset\u001b[0m\u001b[0;34m)\u001b[0m\u001b[0;34m\u001b[0m\u001b[0m\n\u001b[1;32m    886\u001b[0m         \u001b[0;32mexcept\u001b[0m \u001b[0mException\u001b[0m\u001b[0;34m:\u001b[0m\u001b[0;34m\u001b[0m\u001b[0m\n",
      "\u001b[0;32m/home/sunny/anaconda2/lib/python2.7/site-packages/theano/ifelse.pyc\u001b[0m in \u001b[0;36mthunk\u001b[0;34m()\u001b[0m\n\u001b[1;32m    244\u001b[0m         \u001b[0moutputs\u001b[0m \u001b[0;34m=\u001b[0m \u001b[0mnode\u001b[0m\u001b[0;34m.\u001b[0m\u001b[0moutputs\u001b[0m\u001b[0;34m\u001b[0m\u001b[0m\n\u001b[1;32m    245\u001b[0m \u001b[0;34m\u001b[0m\u001b[0m\n\u001b[0;32m--> 246\u001b[0;31m         \u001b[0;32mdef\u001b[0m \u001b[0mthunk\u001b[0m\u001b[0;34m(\u001b[0m\u001b[0;34m)\u001b[0m\u001b[0;34m:\u001b[0m\u001b[0;34m\u001b[0m\u001b[0m\n\u001b[0m\u001b[1;32m    247\u001b[0m             \u001b[0;32mif\u001b[0m \u001b[0;32mnot\u001b[0m \u001b[0mcompute_map\u001b[0m\u001b[0;34m[\u001b[0m\u001b[0mcond\u001b[0m\u001b[0;34m]\u001b[0m\u001b[0;34m[\u001b[0m\u001b[0;36m0\u001b[0m\u001b[0;34m]\u001b[0m\u001b[0;34m:\u001b[0m\u001b[0;34m\u001b[0m\u001b[0m\n\u001b[1;32m    248\u001b[0m                 \u001b[0;32mreturn\u001b[0m \u001b[0;34m[\u001b[0m\u001b[0;36m0\u001b[0m\u001b[0;34m]\u001b[0m\u001b[0;34m\u001b[0m\u001b[0m\n",
      "\u001b[0;31mKeyboardInterrupt\u001b[0m: "
     ]
    }
   ],
   "source": [
    "#for layer in model.layers: print layer.trainable\n",
    "for i in range(10):\n",
    "    batch = next(batches_b2)\n",
    "    val_batch = next(val_batches_b2)\n",
    "    model_b2.fit(batch[0],batch[1],validation_data=(val_batch[0],val_batch[1]),epochs=3,batch_size=16)\n",
    "\n",
    "    model_b2.optimizer.lr = 0.001\n",
    "    model_b2.fit(batch[0],batch[1],validation_data=(val_batch[0],val_batch[1]),epochs=3,batch_size=16)\n",
    "\n",
    "    model_b2.optimizer.lr = 0.0001\n",
    "    model_b2.fit(batch[0],batch[1],validation_data=(val_batch[0],val_batch[1]),epochs=3,batch_size=16)\n",
    "#model_b2.optimizer.lr = 0.0001\n",
    "#model_b2.fit(X_train_b2,y_train_b2,validation_data=(X_test_b2,y_test_b2),epochs=3,batch_size=16)\n",
    "    model_b2.optimizer.lr = 0.00001\n",
    "    model_b2.fit(batch[0],batch[1],validation_data=(val_batch[0],val_batch[1]),epochs=3,batch_size=16)\n",
    "\n",
    "    model_b2.optimizer.lr = 0.000001\n",
    "    model_b2.fit(batch[0],batch[1],validation_data=(val_batch[0],val_batch[1]),epochs=3,batch_size=16)"
   ]
  },
  {
   "cell_type": "markdown",
   "metadata": {
    "collapsed": true
   },
   "source": [
    "fig = mplot.figure(figsize=(12,12))\n",
    "for i in range(16):\n",
    "    fig.add_subplot(4,4,(i+1))\n",
    "    mplot.text(0,0,y_train_b1[i])\n",
    "    mplot.imshow(X_train_b1[i][0])"
   ]
  },
  {
   "cell_type": "markdown",
   "metadata": {},
   "source": [
    "fig = mplot.figure(figsize=(12,12))\n",
    "for i in range(16):\n",
    "    fig.add_subplot(4,4,(i+1))\n",
    "    mplot.text(0,0,y_train_b2[i+16])\n",
    "    mplot.imshow(X_train_b2[i+16][0])"
   ]
  },
  {
   "cell_type": "code",
   "execution_count": null,
   "metadata": {
    "collapsed": true
   },
   "outputs": [],
   "source": []
  }
 ],
 "metadata": {
  "kernelspec": {
   "display_name": "Python 2",
   "language": "python",
   "name": "python2"
  },
  "language_info": {
   "codemirror_mode": {
    "name": "ipython",
    "version": 2
   },
   "file_extension": ".py",
   "mimetype": "text/x-python",
   "name": "python",
   "nbconvert_exporter": "python",
   "pygments_lexer": "ipython2",
   "version": "2.7.13"
  }
 },
 "nbformat": 4,
 "nbformat_minor": 2
}
