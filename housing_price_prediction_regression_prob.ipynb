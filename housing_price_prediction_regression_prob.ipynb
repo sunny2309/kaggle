{
 "cells": [
  {
   "cell_type": "code",
   "execution_count": 130,
   "metadata": {},
   "outputs": [],
   "source": [
    "%matplotlib inline\n",
    "import numpy as np\n",
    "import pandas as pd\n",
    "import matplotlib.pyplot as mplot\n",
    "import os\n",
    "from sklearn.model_selection import train_test_split,cross_val_score\n",
    "from sklearn.linear_model import LinearRegression,Lasso,Ridge\n",
    "from sklearn.neighbors import KNeighborsRegressor\n",
    "from sklearn.preprocessing import MinMaxScaler,RobustScaler,StandardScaler\n",
    "from sklearn.grid_search import GridSearchCV\n",
    "from sklearn.pipeline import make_pipeline"
   ]
  },
  {
   "cell_type": "code",
   "execution_count": 122,
   "metadata": {},
   "outputs": [
    {
     "name": "stdout",
     "output_type": "stream",
     "text": [
      "/home/sunny/Learnings/jupyter_notebooks/Housing_Price/data/housing.data\n"
     ]
    }
   ],
   "source": [
    "path = os.path.join(os.getcwd(),'data','housing.data')\n",
    "print path\n",
    "data = np.loadtxt(open(path),dtype=np.float32)"
   ]
  },
  {
   "cell_type": "code",
   "execution_count": 123,
   "metadata": {},
   "outputs": [
    {
     "name": "stdout",
     "output_type": "stream",
     "text": [
      "(506, 14)\n",
      "float32\n",
      "False\n"
     ]
    }
   ],
   "source": [
    "print data.shape\n",
    "print data.dtype\n",
    "print np.any(np.isnan(data))"
   ]
  },
  {
   "cell_type": "code",
   "execution_count": 124,
   "metadata": {},
   "outputs": [
    {
     "name": "stdout",
     "output_type": "stream",
     "text": [
      "(506, 13) (506,)\n",
      "(379, 13) (127, 13) (379,) (127,)\n"
     ]
    }
   ],
   "source": [
    "data = np.random.permutation(data)\n",
    "X,y = data[:,:13],data[:,-1]\n",
    "print X.shape,y.shape\n",
    "\n",
    "train_X,test_X,train_y,test_y = train_test_split(X,y,train_size=0.75)\n",
    "\n",
    "print train_X.shape,test_X.shape,train_y.shape,test_y.shape"
   ]
  },
  {
   "cell_type": "code",
   "execution_count": 125,
   "metadata": {},
   "outputs": [],
   "source": [
    "sc = StandardScaler()\n",
    "sc.fit(train_X)\n",
    "train_X_sc=sc.transform(train_X)\n",
    "test_X_sc = sc.transform(test_X)\n",
    "\n",
    "mmsc = MinMaxScaler()\n",
    "mmsc.fit(train_X)\n",
    "train_X_mmsc=mmsc.transform(train_X)\n",
    "test_X_mmsc = mmsc.transform(test_X)\n",
    "\n",
    "rsc = RobustScaler()\n",
    "rsc.fit(train_X)\n",
    "train_X_rsc=rsc.transform(train_X)\n",
    "test_X_rsc = rsc.transform(test_X)"
   ]
  },
  {
   "cell_type": "code",
   "execution_count": 126,
   "metadata": {},
   "outputs": [
    {
     "name": "stdout",
     "output_type": "stream",
     "text": [
      "0.763816062035\n",
      "0.732241706262\n",
      "0.824185190783\n"
     ]
    },
    {
     "data": {
      "text/plain": [
       "array([ 0.48886561,  0.5367893 ,  0.55244504,  0.45572218])"
      ]
     },
     "execution_count": 126,
     "metadata": {},
     "output_type": "execute_result"
    }
   ],
   "source": [
    "knr1 = KNeighborsRegressor(n_neighbors=3)\n",
    "knr1.fit(train_X_sc,train_y)\n",
    "print knr1.score(test_X_sc,test_y)\n",
    "\n",
    "knr2 = KNeighborsRegressor(n_neighbors=3)\n",
    "knr2.fit(train_X_mmsc,train_y)\n",
    "print knr2.score(test_X_mmsc,test_y)\n",
    "\n",
    "knr3 = KNeighborsRegressor(n_neighbors=3)\n",
    "knr3.fit(train_X_rsc,train_y)\n",
    "print knr3.score(test_X_rsc,test_y)\n",
    "\n",
    "cross_val_score(KNeighborsRegressor(n_neighbors=3),X,y,cv=4)"
   ]
  },
  {
   "cell_type": "code",
   "execution_count": 127,
   "metadata": {},
   "outputs": [
    {
     "name": "stdout",
     "output_type": "stream",
     "text": [
      "0.763957235888\n",
      "0.76395752894\n",
      "0.763957400294\n"
     ]
    },
    {
     "data": {
      "text/plain": [
       "array([ 0.75356023,  0.704107  ,  0.80128102,  0.70630149,  0.65038043])"
      ]
     },
     "execution_count": 127,
     "metadata": {},
     "output_type": "execute_result"
    }
   ],
   "source": [
    "lr1 = LinearRegression()\n",
    "lr1.fit(train_X_sc,train_y)\n",
    "print lr1.score(test_X_sc,test_y)\n",
    "\n",
    "lr2 = LinearRegression()\n",
    "lr2.fit(train_X_mmsc,train_y)\n",
    "print lr2.score(test_X_mmsc,test_y)\n",
    "\n",
    "lr3 = LinearRegression()\n",
    "lr3.fit(train_X_rsc,train_y)\n",
    "print lr3.score(test_X_rsc,test_y)\n",
    "\n",
    "cross_val_score(LinearRegression(),X,y,cv=5)"
   ]
  },
  {
   "cell_type": "code",
   "execution_count": 128,
   "metadata": {},
   "outputs": [
    {
     "name": "stdout",
     "output_type": "stream",
     "text": [
      "0.735461741616\n",
      "0.305450437248\n",
      "0.743840491872\n"
     ]
    },
    {
     "data": {
      "text/plain": [
       "array([ 0.63535873,  0.66161362,  0.69807311,  0.62693052])"
      ]
     },
     "execution_count": 128,
     "metadata": {},
     "output_type": "execute_result"
    }
   ],
   "source": [
    "lr1 = Lasso()\n",
    "lr1.fit(train_X_sc,train_y)\n",
    "print lr1.score(test_X_sc,test_y)\n",
    "\n",
    "lr2 = Lasso()\n",
    "lr2.fit(train_X_mmsc,train_y)\n",
    "print lr2.score(test_X_mmsc,test_y)\n",
    "\n",
    "lr3 = Lasso()\n",
    "lr3.fit(train_X_rsc,train_y)\n",
    "print lr3.score(test_X_rsc,test_y)\n",
    "\n",
    "cross_val_score(Lasso(),X,y,cv=4)"
   ]
  },
  {
   "cell_type": "code",
   "execution_count": 129,
   "metadata": {},
   "outputs": [
    {
     "name": "stdout",
     "output_type": "stream",
     "text": [
      "0.765512454446\n",
      "0.774564114384\n",
      "0.768967434338\n"
     ]
    },
    {
     "data": {
      "text/plain": [
       "array([ 0.72193415,  0.77348788,  0.68780586,  0.66379797])"
      ]
     },
     "execution_count": 129,
     "metadata": {},
     "output_type": "execute_result"
    }
   ],
   "source": [
    "lr1 = Ridge()\n",
    "lr1.fit(train_X_sc,train_y)\n",
    "print lr1.score(test_X_sc,test_y)\n",
    "\n",
    "lr2 = Ridge()\n",
    "lr2.fit(train_X_mmsc,train_y)\n",
    "print lr2.score(test_X_mmsc,test_y)\n",
    "\n",
    "lr3 = Ridge()\n",
    "lr3.fit(train_X_rsc,train_y)\n",
    "print lr3.score(test_X_rsc,test_y)\n",
    "\n",
    "cross_val_score(Ridge(),X,y,cv=4)"
   ]
  },
  {
   "cell_type": "code",
   "execution_count": null,
   "metadata": {
    "collapsed": true
   },
   "outputs": [],
   "source": []
  },
  {
   "cell_type": "code",
   "execution_count": null,
   "metadata": {
    "collapsed": true
   },
   "outputs": [],
   "source": []
  }
 ],
 "metadata": {
  "kernelspec": {
   "display_name": "Python 2",
   "language": "python",
   "name": "python2"
  },
  "language_info": {
   "codemirror_mode": {
    "name": "ipython",
    "version": 2
   },
   "file_extension": ".py",
   "mimetype": "text/x-python",
   "name": "python",
   "nbconvert_exporter": "python",
   "pygments_lexer": "ipython2",
   "version": "2.7.13"
  }
 },
 "nbformat": 4,
 "nbformat_minor": 2
}
