{
 "cells": [
  {
   "cell_type": "code",
   "execution_count": 5,
   "metadata": {
    "collapsed": true
   },
   "outputs": [],
   "source": [
    "%matplotlib inline\n",
    "import numpy as np\n",
    "import pandas as pd\n",
    "import os"
   ]
  },
  {
   "cell_type": "code",
   "execution_count": 8,
   "metadata": {
    "collapsed": false
   },
   "outputs": [
    {
     "data": {
      "text/plain": [
       "['gift_goodkids.csv.zip',\n",
       " 'child_wishlist.csv.zip',\n",
       " 'sample_submission_random.csv.zip',\n",
       " 'Authorization%20for%20Minor%20Form.rtf',\n",
       " 'child_wishlist.csv',\n",
       " 'sample_submission_random.csv',\n",
       " 'gift_goodkids.csv']"
      ]
     },
     "execution_count": 8,
     "metadata": {},
     "output_type": "execute_result"
    }
   ],
   "source": [
    "os.listdir('/home/ubuntu/data/santa_gift')"
   ]
  },
  {
   "cell_type": "code",
   "execution_count": 26,
   "metadata": {
    "collapsed": false
   },
   "outputs": [
    {
     "name": "stdout",
     "output_type": "stream",
     "text": [
      "(1000, 1001)\n"
     ]
    },
    {
     "data": {
      "text/plain": [
       "array([[     0,   1373, 752341, ..., 257948, 572060, 876079]], dtype=int32)"
      ]
     },
     "execution_count": 26,
     "metadata": {},
     "output_type": "execute_result"
    }
   ],
   "source": [
    "f = open('/home/ubuntu/data/santa_gift/gift_goodkids.csv')\n",
    "gift_goodkids_arr = np.loadtxt(f,dtype='int32',delimiter=',')\n",
    "print gift_goodkids_arr.shape\n",
    "gift_goodkids_arr[:1]"
   ]
  },
  {
   "cell_type": "code",
   "execution_count": 27,
   "metadata": {
    "collapsed": false
   },
   "outputs": [
    {
     "name": "stdout",
     "output_type": "stream",
     "text": [
      "(1000000, 11)\n"
     ]
    },
    {
     "data": {
      "text/plain": [
       "array([[  0, 871, 409, 547, 423, 660, 679, 281, 220, 834, 152]], dtype=int32)"
      ]
     },
     "execution_count": 27,
     "metadata": {},
     "output_type": "execute_result"
    }
   ],
   "source": [
    "f = open('/home/ubuntu/data/santa_gift/child_wishlist.csv')\n",
    "child_wishlist_arr = np.loadtxt(f,dtype='int32',delimiter=',')\n",
    "print child_wishlist_arr.shape\n",
    "#child_wishlist_arr[:1]"
   ]
  },
  {
   "cell_type": "code",
   "execution_count": 28,
   "metadata": {
    "collapsed": false
   },
   "outputs": [
    {
     "name": "stdout",
     "output_type": "stream",
     "text": [
      "(1000000, 10) (1000, 1000)\n"
     ]
    }
   ],
   "source": [
    "gift_goodkids_arr = gift_goodkids_arr.T[1:].T\n",
    "child_wishlist_arr = child_wishlist_arr.T[1:].T\n",
    "print child_wishlist_arr.shape,gift_goodkids_arr.shape"
   ]
  },
  {
   "cell_type": "code",
   "execution_count": null,
   "metadata": {
    "collapsed": false
   },
   "outputs": [],
   "source": []
  },
  {
   "cell_type": "code",
   "execution_count": null,
   "metadata": {
    "collapsed": true
   },
   "outputs": [],
   "source": []
  }
 ],
 "metadata": {
  "anaconda-cloud": {},
  "kernelspec": {
   "display_name": "Python [conda root]",
   "language": "python",
   "name": "conda-root-py"
  },
  "language_info": {
   "codemirror_mode": {
    "name": "ipython",
    "version": 2
   },
   "file_extension": ".py",
   "mimetype": "text/x-python",
   "name": "python",
   "nbconvert_exporter": "python",
   "pygments_lexer": "ipython2",
   "version": "2.7.12"
  }
 },
 "nbformat": 4,
 "nbformat_minor": 1
}
