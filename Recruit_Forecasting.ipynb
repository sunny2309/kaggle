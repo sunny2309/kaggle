{
 "cells": [
  {
   "cell_type": "code",
   "execution_count": 41,
   "metadata": {},
   "outputs": [],
   "source": [
    "import pandas as pd\n",
    "import numpy as np\n",
    "%matplotlib inline"
   ]
  },
  {
   "cell_type": "code",
   "execution_count": 42,
   "metadata": {},
   "outputs": [],
   "source": [
    "#%ls -l"
   ]
  },
  {
   "cell_type": "code",
   "execution_count": 43,
   "metadata": {},
   "outputs": [],
   "source": [
    "air_reserve = pd.read_csv('air_reserve.csv',parse_dates=[1,2])"
   ]
  },
  {
   "cell_type": "code",
   "execution_count": 44,
   "metadata": {},
   "outputs": [
    {
     "name": "stdout",
     "output_type": "stream",
     "text": [
      "Dataset shape (92378, 4)\n",
      "Dataset columns Index(['air_store_id', 'visit_datetime', 'reserve_datetime',\n",
      "       'reserve_visitors'],\n",
      "      dtype='object')\n",
      "Dataset NAN check air_store_id        False\n",
      "visit_datetime      False\n",
      "reserve_datetime    False\n",
      "reserve_visitors    False\n",
      "dtype: bool\n",
      "Dataset size 369512\n"
     ]
    }
   ],
   "source": [
    "print ('Dataset shape %s'%str(air_reserve.shape))\n",
    "print ('Dataset columns %s'%str(air_reserve.columns))\n",
    "print ('Dataset NAN check %s'%air_reserve.isna().any())\n",
    "print ('Dataset size %s'%air_reserve.size)"
   ]
  },
  {
   "cell_type": "code",
   "execution_count": 45,
   "metadata": {},
   "outputs": [],
   "source": [
    "air_store_info = pd.read_csv('air_store_info.csv')"
   ]
  },
  {
   "cell_type": "code",
   "execution_count": 46,
   "metadata": {},
   "outputs": [
    {
     "name": "stdout",
     "output_type": "stream",
     "text": [
      "Dataset shape (829, 5)\n",
      "Dataset columns Index(['air_store_id', 'air_genre_name', 'air_area_name', 'latitude',\n",
      "       'longitude'],\n",
      "      dtype='object')\n",
      "Dataset NAN check air_store_id      False\n",
      "air_genre_name    False\n",
      "air_area_name     False\n",
      "latitude          False\n",
      "longitude         False\n",
      "dtype: bool\n",
      "Dataset size 4145\n"
     ]
    }
   ],
   "source": [
    "print ('Dataset shape %s'%str(air_store_info.shape))\n",
    "print ('Dataset columns %s'%str(air_store_info.columns))\n",
    "print ('Dataset NAN check %s'%air_store_info.isna().any())\n",
    "print ('Dataset size %s'%air_store_info.size)"
   ]
  },
  {
   "cell_type": "code",
   "execution_count": 47,
   "metadata": {},
   "outputs": [
    {
     "name": "stdout",
     "output_type": "stream",
     "text": [
      "air_store_id                object\n",
      "visit_datetime      datetime64[ns]\n",
      "reserve_datetime    datetime64[ns]\n",
      "reserve_visitors             int64\n",
      "dtype: object\n"
     ]
    }
   ],
   "source": [
    "print (air_reserve.dtypes)\n",
    "#air_reserve.head(n=5)"
   ]
  },
  {
   "cell_type": "code",
   "execution_count": 48,
   "metadata": {},
   "outputs": [
    {
     "name": "stdout",
     "output_type": "stream",
     "text": [
      "air_store_id       object\n",
      "air_genre_name     object\n",
      "air_area_name      object\n",
      "latitude          float64\n",
      "longitude         float64\n",
      "dtype: object\n"
     ]
    }
   ],
   "source": [
    "print (air_store_info.dtypes)\n",
    "#air_store_info.head(n=5)"
   ]
  },
  {
   "cell_type": "code",
   "execution_count": 49,
   "metadata": {},
   "outputs": [],
   "source": [
    "air_merged_data = air_reserve.merge(air_store_info,on='air_store_id',how='left')"
   ]
  },
  {
   "cell_type": "code",
   "execution_count": 50,
   "metadata": {},
   "outputs": [
    {
     "data": {
      "text/plain": [
       "air_store_id                object\n",
       "visit_datetime      datetime64[ns]\n",
       "reserve_datetime    datetime64[ns]\n",
       "reserve_visitors             int64\n",
       "air_genre_name              object\n",
       "air_area_name               object\n",
       "latitude                   float64\n",
       "longitude                  float64\n",
       "dtype: object"
      ]
     },
     "execution_count": 50,
     "metadata": {},
     "output_type": "execute_result"
    }
   ],
   "source": [
    "air_merged_data.dtypes\n",
    "#air_merged_data.head(n=5)"
   ]
  },
  {
   "cell_type": "code",
   "execution_count": 51,
   "metadata": {},
   "outputs": [],
   "source": [
    "hpg_reserve = pd.read_csv('hpg_reserve.csv',parse_dates=[1,2])"
   ]
  },
  {
   "cell_type": "code",
   "execution_count": 52,
   "metadata": {},
   "outputs": [
    {
     "data": {
      "text/plain": [
       "hpg_store_id                object\n",
       "visit_datetime      datetime64[ns]\n",
       "reserve_datetime    datetime64[ns]\n",
       "reserve_visitors             int64\n",
       "dtype: object"
      ]
     },
     "execution_count": 52,
     "metadata": {},
     "output_type": "execute_result"
    }
   ],
   "source": [
    "hpg_reserve.dtypes\n",
    "#hpg_reserve.head(n=5)"
   ]
  },
  {
   "cell_type": "code",
   "execution_count": 53,
   "metadata": {},
   "outputs": [
    {
     "name": "stdout",
     "output_type": "stream",
     "text": [
      "Dataset shape (2000320, 4)\n",
      "Dataset columns Index(['hpg_store_id', 'visit_datetime', 'reserve_datetime',\n",
      "       'reserve_visitors'],\n",
      "      dtype='object')\n",
      "Dataset NAN check hpg_store_id        False\n",
      "visit_datetime      False\n",
      "reserve_datetime    False\n",
      "reserve_visitors    False\n",
      "dtype: bool\n",
      "Dataset size 8001280\n"
     ]
    }
   ],
   "source": [
    "print ('Dataset shape %s'%str(hpg_reserve.shape))\n",
    "print ('Dataset columns %s'%str(hpg_reserve.columns))\n",
    "print ('Dataset NAN check %s'%hpg_reserve.isna().any())\n",
    "print ('Dataset size %s'%hpg_reserve.size)"
   ]
  },
  {
   "cell_type": "code",
   "execution_count": 54,
   "metadata": {},
   "outputs": [],
   "source": [
    "hpg_store_info = pd.read_csv('hpg_store_info.csv')"
   ]
  },
  {
   "cell_type": "code",
   "execution_count": 55,
   "metadata": {},
   "outputs": [
    {
     "data": {
      "text/plain": [
       "hpg_store_id       object\n",
       "hpg_genre_name     object\n",
       "hpg_area_name      object\n",
       "latitude          float64\n",
       "longitude         float64\n",
       "dtype: object"
      ]
     },
     "execution_count": 55,
     "metadata": {},
     "output_type": "execute_result"
    }
   ],
   "source": [
    "hpg_store_info.dtypes\n",
    "#hpg_store_info.head(n=5)"
   ]
  },
  {
   "cell_type": "code",
   "execution_count": 56,
   "metadata": {},
   "outputs": [
    {
     "name": "stdout",
     "output_type": "stream",
     "text": [
      "Dataset shape (4690, 5)\n",
      "Dataset columns Index(['hpg_store_id', 'hpg_genre_name', 'hpg_area_name', 'latitude',\n",
      "       'longitude'],\n",
      "      dtype='object')\n",
      "Dataset NAN check hpg_store_id      False\n",
      "hpg_genre_name    False\n",
      "hpg_area_name     False\n",
      "latitude          False\n",
      "longitude         False\n",
      "dtype: bool\n",
      "Dataset size 23450\n"
     ]
    }
   ],
   "source": [
    "print ('Dataset shape %s'%str(hpg_store_info.shape))\n",
    "print ('Dataset columns %s'%str(hpg_store_info.columns))\n",
    "print ('Dataset NAN check %s'%hpg_store_info.isna().any())\n",
    "print ('Dataset size %s'%hpg_store_info.size)"
   ]
  },
  {
   "cell_type": "code",
   "execution_count": 57,
   "metadata": {},
   "outputs": [],
   "source": [
    "hpg_merged_data = hpg_reserve.merge(hpg_store_info,on='hpg_store_id',how='left')"
   ]
  },
  {
   "cell_type": "code",
   "execution_count": 58,
   "metadata": {},
   "outputs": [
    {
     "data": {
      "text/plain": [
       "hpg_store_id                object\n",
       "visit_datetime      datetime64[ns]\n",
       "reserve_datetime    datetime64[ns]\n",
       "reserve_visitors             int64\n",
       "hpg_genre_name              object\n",
       "hpg_area_name               object\n",
       "latitude                   float64\n",
       "longitude                  float64\n",
       "dtype: object"
      ]
     },
     "execution_count": 58,
     "metadata": {},
     "output_type": "execute_result"
    }
   ],
   "source": [
    "hpg_merged_data.dtypes\n",
    "#hpg_merged_data.head(n=5)"
   ]
  },
  {
   "cell_type": "code",
   "execution_count": 59,
   "metadata": {},
   "outputs": [],
   "source": [
    "common_col_names = ['store_id', 'visit_datetime', 'reserve_datetime',\n",
    "       'reserve_visitors', 'genre_name', 'area_name', 'latitude',\n",
    "       'longitude']"
   ]
  },
  {
   "cell_type": "code",
   "execution_count": 60,
   "metadata": {},
   "outputs": [],
   "source": [
    "air_merged_data.columns = common_col_names\n",
    "hpg_merged_data.columns = common_col_names"
   ]
  },
  {
   "cell_type": "code",
   "execution_count": 61,
   "metadata": {},
   "outputs": [],
   "source": [
    "air_merged_data['source_type'] = 0 # for air\n",
    "hpg_merged_data['source_type'] = 1 # for hpg"
   ]
  },
  {
   "cell_type": "code",
   "execution_count": 62,
   "metadata": {},
   "outputs": [
    {
     "name": "stdout",
     "output_type": "stream",
     "text": [
      "(92378, 9)\n",
      "(2000320, 9)\n"
     ]
    }
   ],
   "source": [
    "print(air_merged_data.shape)\n",
    "print(hpg_merged_data.shape)"
   ]
  },
  {
   "cell_type": "code",
   "execution_count": 63,
   "metadata": {},
   "outputs": [],
   "source": [
    "final_dataset = pd.concat([air_merged_data,hpg_merged_data])"
   ]
  },
  {
   "cell_type": "code",
   "execution_count": 64,
   "metadata": {},
   "outputs": [
    {
     "data": {
      "text/plain": [
       "True"
      ]
     },
     "execution_count": 64,
     "metadata": {},
     "output_type": "execute_result"
    }
   ],
   "source": [
    "final_dataset.shape[0] == air_merged_data.shape[0] + hpg_merged_data.shape[0]"
   ]
  },
  {
   "cell_type": "code",
   "execution_count": 65,
   "metadata": {},
   "outputs": [
    {
     "data": {
      "text/plain": [
       "store_id                    object\n",
       "visit_datetime      datetime64[ns]\n",
       "reserve_datetime    datetime64[ns]\n",
       "reserve_visitors             int64\n",
       "genre_name                  object\n",
       "area_name                   object\n",
       "latitude                   float64\n",
       "longitude                  float64\n",
       "source_type                  int64\n",
       "dtype: object"
      ]
     },
     "execution_count": 65,
     "metadata": {},
     "output_type": "execute_result"
    }
   ],
   "source": [
    "final_dataset.dtypes\n",
    "#final_dataset.head(5)"
   ]
  },
  {
   "cell_type": "code",
   "execution_count": 66,
   "metadata": {},
   "outputs": [
    {
     "data": {
      "text/plain": [
       "123"
      ]
     },
     "execution_count": 66,
     "metadata": {},
     "output_type": "execute_result"
    }
   ],
   "source": [
    "del hpg_merged_data,air_merged_data\n",
    "import gc\n",
    "gc.enable()\n",
    "gc.collect()"
   ]
  },
  {
   "cell_type": "code",
   "execution_count": 67,
   "metadata": {},
   "outputs": [],
   "source": [
    "final_dataset=pd.get_dummies(final_dataset,columns=['genre_name'])"
   ]
  },
  {
   "cell_type": "code",
   "execution_count": 68,
   "metadata": {},
   "outputs": [],
   "source": [
    "def weekend(date):\n",
    "    if date:\n",
    "        return 1 if pd.to_datetime(date).weekday_name in ['Saturday','Sunday'] else 0\n",
    "    else:\n",
    "        return np.NAN"
   ]
  },
  {
   "cell_type": "code",
   "execution_count": 69,
   "metadata": {},
   "outputs": [
    {
     "name": "stdout",
     "output_type": "stream",
     "text": [
      "(2092698, 52)\n"
     ]
    }
   ],
   "source": [
    "vectorized_weekend = np.vectorize(weekend)\n",
    "print (final_dataset.shape)"
   ]
  },
  {
   "cell_type": "code",
   "execution_count": 70,
   "metadata": {},
   "outputs": [
    {
     "name": "stdout",
     "output_type": "stream",
     "text": [
      "CPU times: user 8min 44s, sys: 260 ms, total: 8min 44s\n",
      "Wall time: 8min 48s\n"
     ]
    }
   ],
   "source": [
    "%%time\n",
    "final_dataset['Weekend_Or_Week_day'] = vectorized_weekend(final_dataset['visit_datetime'].values)"
   ]
  },
  {
   "cell_type": "code",
   "execution_count": 71,
   "metadata": {},
   "outputs": [],
   "source": [
    "final_dataset=final_dataset.reset_index()"
   ]
  },
  {
   "cell_type": "code",
   "execution_count": 72,
   "metadata": {},
   "outputs": [
    {
     "data": {
      "text/plain": [
       "210"
      ]
     },
     "execution_count": 72,
     "metadata": {},
     "output_type": "execute_result"
    }
   ],
   "source": [
    "train_data = final_dataset[final_dataset['visit_datetime']<=pd.to_datetime('23-04-2017')]\n",
    "test_data = final_dataset[final_dataset['visit_datetime']>pd.to_datetime('23-04-2017')]\n",
    "\n",
    "del final_dataset\n",
    "import gc\n",
    "gc.collect()"
   ]
  },
  {
   "cell_type": "code",
   "execution_count": 73,
   "metadata": {},
   "outputs": [
    {
     "name": "stdout",
     "output_type": "stream",
     "text": [
      "(2055268, 54)\n",
      "(37430, 54)\n"
     ]
    }
   ],
   "source": [
    "print(train_data.shape)\n",
    "print(test_data.shape)"
   ]
  },
  {
   "cell_type": "code",
   "execution_count": 75,
   "metadata": {},
   "outputs": [],
   "source": [
    "train_data = train_data[:int(train_data.shape[0]/10)]"
   ]
  },
  {
   "cell_type": "code",
   "execution_count": 80,
   "metadata": {},
   "outputs": [],
   "source": [
    "total_columns = train_data.columns.values.tolist()\n",
    "total_columns.remove('store_id')\n",
    "total_columns.remove('visit_datetime')\n",
    "total_columns.remove('reserve_datetime')\n",
    "total_columns.remove('reserve_visitors')\n",
    "total_columns.remove('area_name')\n",
    "\n",
    "train_X = train_data[total_columns].values\n",
    "train_y = train_data['reserve_visitors'].values\n",
    "test_X = test_data[total_columns].values\n",
    "test_y = test_data['reserve_visitors'].values"
   ]
  },
  {
   "cell_type": "code",
   "execution_count": 81,
   "metadata": {},
   "outputs": [
    {
     "name": "stdout",
     "output_type": "stream",
     "text": [
      "(205526, 49)\n",
      "(205526,)\n",
      "(37430, 49)\n",
      "(37430,)\n"
     ]
    }
   ],
   "source": [
    "print(train_X.shape)\n",
    "print(train_y.shape)\n",
    "print(test_X.shape)\n",
    "print(test_y.shape)"
   ]
  },
  {
   "cell_type": "code",
   "execution_count": 85,
   "metadata": {},
   "outputs": [
    {
     "ename": "ValueError",
     "evalue": "Input contains NaN, infinity or a value too large for dtype('float64').",
     "output_type": "error",
     "traceback": [
      "\u001b[0;31m-----------------------------------------------------------------------\u001b[0m",
      "\u001b[0;31mValueError\u001b[0m                            Traceback (most recent call last)",
      "\u001b[0;32m<ipython-input-85-257bcc14cef1>\u001b[0m in \u001b[0;36m<module>\u001b[0;34m()\u001b[0m\n\u001b[1;32m      5\u001b[0m \u001b[0mlasso\u001b[0m \u001b[0;34m=\u001b[0m \u001b[0mLasso\u001b[0m\u001b[0;34m(\u001b[0m\u001b[0;34m)\u001b[0m\u001b[0;34m\u001b[0m\u001b[0m\n\u001b[1;32m      6\u001b[0m \u001b[0;34m\u001b[0m\u001b[0m\n\u001b[0;32m----> 7\u001b[0;31m \u001b[0mlasso\u001b[0m\u001b[0;34m.\u001b[0m\u001b[0mfit\u001b[0m\u001b[0;34m(\u001b[0m\u001b[0mtrain_X\u001b[0m\u001b[0;34m,\u001b[0m\u001b[0mtrain_y\u001b[0m\u001b[0;34m)\u001b[0m\u001b[0;34m\u001b[0m\u001b[0m\n\u001b[0m",
      "\u001b[0;32m~/anaconda2/envs/parallel/lib/python3.6/site-packages/sklearn/linear_model/coordinate_descent.py\u001b[0m in \u001b[0;36mfit\u001b[0;34m(self, X, y, check_input)\u001b[0m\n\u001b[1;32m    705\u001b[0m                              \u001b[0morder\u001b[0m\u001b[0;34m=\u001b[0m\u001b[0;34m'F'\u001b[0m\u001b[0;34m,\u001b[0m \u001b[0mdtype\u001b[0m\u001b[0;34m=\u001b[0m\u001b[0;34m[\u001b[0m\u001b[0mnp\u001b[0m\u001b[0;34m.\u001b[0m\u001b[0mfloat64\u001b[0m\u001b[0;34m,\u001b[0m \u001b[0mnp\u001b[0m\u001b[0;34m.\u001b[0m\u001b[0mfloat32\u001b[0m\u001b[0;34m]\u001b[0m\u001b[0;34m,\u001b[0m\u001b[0;34m\u001b[0m\u001b[0m\n\u001b[1;32m    706\u001b[0m                              \u001b[0mcopy\u001b[0m\u001b[0;34m=\u001b[0m\u001b[0mself\u001b[0m\u001b[0;34m.\u001b[0m\u001b[0mcopy_X\u001b[0m \u001b[0;32mand\u001b[0m \u001b[0mself\u001b[0m\u001b[0;34m.\u001b[0m\u001b[0mfit_intercept\u001b[0m\u001b[0;34m,\u001b[0m\u001b[0;34m\u001b[0m\u001b[0m\n\u001b[0;32m--> 707\u001b[0;31m                              multi_output=True, y_numeric=True)\n\u001b[0m\u001b[1;32m    708\u001b[0m             y = check_array(y, order='F', copy=False, dtype=X.dtype.type,\n\u001b[1;32m    709\u001b[0m                             ensure_2d=False)\n",
      "\u001b[0;32m~/anaconda2/envs/parallel/lib/python3.6/site-packages/sklearn/utils/validation.py\u001b[0m in \u001b[0;36mcheck_X_y\u001b[0;34m(X, y, accept_sparse, dtype, order, copy, force_all_finite, ensure_2d, allow_nd, multi_output, ensure_min_samples, ensure_min_features, y_numeric, warn_on_dtype, estimator)\u001b[0m\n\u001b[1;32m    571\u001b[0m     X = check_array(X, accept_sparse, dtype, order, copy, force_all_finite,\n\u001b[1;32m    572\u001b[0m                     \u001b[0mensure_2d\u001b[0m\u001b[0;34m,\u001b[0m \u001b[0mallow_nd\u001b[0m\u001b[0;34m,\u001b[0m \u001b[0mensure_min_samples\u001b[0m\u001b[0;34m,\u001b[0m\u001b[0;34m\u001b[0m\u001b[0m\n\u001b[0;32m--> 573\u001b[0;31m                     ensure_min_features, warn_on_dtype, estimator)\n\u001b[0m\u001b[1;32m    574\u001b[0m     \u001b[0;32mif\u001b[0m \u001b[0mmulti_output\u001b[0m\u001b[0;34m:\u001b[0m\u001b[0;34m\u001b[0m\u001b[0m\n\u001b[1;32m    575\u001b[0m         y = check_array(y, 'csr', force_all_finite=True, ensure_2d=False,\n",
      "\u001b[0;32m~/anaconda2/envs/parallel/lib/python3.6/site-packages/sklearn/utils/validation.py\u001b[0m in \u001b[0;36mcheck_array\u001b[0;34m(array, accept_sparse, dtype, order, copy, force_all_finite, ensure_2d, allow_nd, ensure_min_samples, ensure_min_features, warn_on_dtype, estimator)\u001b[0m\n\u001b[1;32m    451\u001b[0m                              % (array.ndim, estimator_name))\n\u001b[1;32m    452\u001b[0m         \u001b[0;32mif\u001b[0m \u001b[0mforce_all_finite\u001b[0m\u001b[0;34m:\u001b[0m\u001b[0;34m\u001b[0m\u001b[0m\n\u001b[0;32m--> 453\u001b[0;31m             \u001b[0m_assert_all_finite\u001b[0m\u001b[0;34m(\u001b[0m\u001b[0marray\u001b[0m\u001b[0;34m)\u001b[0m\u001b[0;34m\u001b[0m\u001b[0m\n\u001b[0m\u001b[1;32m    454\u001b[0m \u001b[0;34m\u001b[0m\u001b[0m\n\u001b[1;32m    455\u001b[0m     \u001b[0mshape_repr\u001b[0m \u001b[0;34m=\u001b[0m \u001b[0m_shape_repr\u001b[0m\u001b[0;34m(\u001b[0m\u001b[0marray\u001b[0m\u001b[0;34m.\u001b[0m\u001b[0mshape\u001b[0m\u001b[0;34m)\u001b[0m\u001b[0;34m\u001b[0m\u001b[0m\n",
      "\u001b[0;32m~/anaconda2/envs/parallel/lib/python3.6/site-packages/sklearn/utils/validation.py\u001b[0m in \u001b[0;36m_assert_all_finite\u001b[0;34m(X)\u001b[0m\n\u001b[1;32m     42\u001b[0m             and not np.isfinite(X).all()):\n\u001b[1;32m     43\u001b[0m         raise ValueError(\"Input contains NaN, infinity\"\n\u001b[0;32m---> 44\u001b[0;31m                          \" or a value too large for %r.\" % X.dtype)\n\u001b[0m\u001b[1;32m     45\u001b[0m \u001b[0;34m\u001b[0m\u001b[0m\n\u001b[1;32m     46\u001b[0m \u001b[0;34m\u001b[0m\u001b[0m\n",
      "\u001b[0;31mValueError\u001b[0m: Input contains NaN, infinity or a value too large for dtype('float64')."
     ]
    }
   ],
   "source": [
    "from sklearn.linear_model import LinearRegression,Lasso\n",
    "\n",
    "lr = LinearRegression()\n",
    "\n",
    "lasso = Lasso()\n",
    "\n",
    "lasso.fit(train_X,train_y)"
   ]
  },
  {
   "cell_type": "code",
   "execution_count": null,
   "metadata": {},
   "outputs": [],
   "source": []
  }
 ],
 "metadata": {
  "kernelspec": {
   "display_name": "Python 3",
   "language": "python",
   "name": "python3"
  },
  "language_info": {
   "codemirror_mode": {
    "name": "ipython",
    "version": 3
   },
   "file_extension": ".py",
   "mimetype": "text/x-python",
   "name": "python",
   "nbconvert_exporter": "python",
   "pygments_lexer": "ipython3",
   "version": "3.6.3"
  }
 },
 "nbformat": 4,
 "nbformat_minor": 2
}
